{
 "cells": [
  {
   "cell_type": "code",
   "execution_count": 46,
   "id": "a51aec26-4e1a-428a-bb61-3b7293a59090",
   "metadata": {},
   "outputs": [],
   "source": [
    "import numpy as np\n",
    "import pandas as pd\n",
    "from scipy.spatial.distance import squareform, pdist\n"
   ]
  },
  {
   "cell_type": "code",
   "execution_count": 57,
   "id": "1eabfe16-d5fb-4d1d-bccd-4c6087296857",
   "metadata": {},
   "outputs": [
    {
     "name": "stdout",
     "output_type": "stream",
     "text": [
      "   No                          Point A                          Point B  \\\n",
      "0   1  0.2807019358965,0.4244344252102  0.4211343666572,0.4556416320459   \n",
      "1   2  0.9514520023251,0.8831535204871                              NaN   \n",
      "2   3  0.5256835405573,0.2245299934992  0.1309621903588,0.5303057532548   \n",
      "3   4             0.3218181818182,0.41             0.3872727272727,0.81   \n",
      "4   5  0.2592110836956,0.1869342057736  0.9236032297365,0.0994094919239   \n",
      "\n",
      "                           Point C                          Point D  \\\n",
      "0  0.5366010319493,0.4275551458938  0.8549145416735,0.4181929838431   \n",
      "1  0.9753223788295,0.7120824888718  0.4899580565721,0.5410114572565   \n",
      "2  0.2802085009625,0.1866406978221   0.2249766170537,0.616222017113   \n",
      "3  0.8963636363636,0.3554545454545  0.4236363636364,0.3918181818182   \n",
      "4                              NaN  0.1279240129211,0.8592831439827   \n",
      "\n",
      "                           Point E Error Classification  \n",
      "0  0.6801541833936,0.4244344252102                    A  \n",
      "1   0.4422173035632,0.409724386482                    C  \n",
      "2  0.2679347489828,0.8739708086875                    B  \n",
      "3  0.8781818181818,0.6463636363636                    A  \n",
      "4  0.9076896454002,0.6524065476107                    D  \n"
     ]
    }
   ],
   "source": [
    "#1 fetch the raw.csv file\n",
    "\n",
    "raw_df = pd.read_csv(\"Dataset_320.csv\")\n",
    "print(raw_df.head())"
   ]
  },
  {
   "cell_type": "code",
   "execution_count": 58,
   "id": "9f32131c-1439-4f18-8fa2-6aae71b00adf",
   "metadata": {},
   "outputs": [],
   "source": [
    "raw_df['Point A'].fillna(value='0,0', inplace=True)\n",
    "raw_df['Point B'].fillna(value='0,0', inplace=True)\n",
    "raw_df['Point C'].fillna(value='0,0', inplace=True)\n",
    "raw_df['Point D'].fillna(value='0,0', inplace=True)\n",
    "raw_df['Point E'].fillna(value='0,0', inplace=True)"
   ]
  },
  {
   "cell_type": "code",
   "execution_count": 59,
   "id": "9e748a09-96bb-44a0-886a-0144ccfe57a2",
   "metadata": {},
   "outputs": [
    {
     "data": {
      "text/plain": [
       "No                      0\n",
       "Point A                 0\n",
       "Point B                 0\n",
       "Point C                 0\n",
       "Point D                 0\n",
       "Point E                 0\n",
       "Error Classification    0\n",
       "dtype: int64"
      ]
     },
     "execution_count": 59,
     "metadata": {},
     "output_type": "execute_result"
    }
   ],
   "source": [
    "raw_df.isnull().sum()"
   ]
  },
  {
   "cell_type": "code",
   "execution_count": 60,
   "id": "9fba6591-57cc-4814-8916-a7f82b04b52b",
   "metadata": {},
   "outputs": [],
   "source": [
    "# after fetching , select columns and store it in raw_df_selected\n",
    "\n",
    "columns = ['Point A', 'Point B', 'Point C', 'Point D', 'Point E']\n",
    "raw_df_selected = raw_df[columns]"
   ]
  },
  {
   "cell_type": "code",
   "execution_count": 61,
   "id": "66216502-40a0-427d-a3f6-1868531c35e9",
   "metadata": {},
   "outputs": [
    {
     "data": {
      "text/html": [
       "<div>\n",
       "<style scoped>\n",
       "    .dataframe tbody tr th:only-of-type {\n",
       "        vertical-align: middle;\n",
       "    }\n",
       "\n",
       "    .dataframe tbody tr th {\n",
       "        vertical-align: top;\n",
       "    }\n",
       "\n",
       "    .dataframe thead th {\n",
       "        text-align: right;\n",
       "    }\n",
       "</style>\n",
       "<table border=\"1\" class=\"dataframe\">\n",
       "  <thead>\n",
       "    <tr style=\"text-align: right;\">\n",
       "      <th></th>\n",
       "      <th>Point A</th>\n",
       "      <th>Point B</th>\n",
       "      <th>Point C</th>\n",
       "      <th>Point D</th>\n",
       "      <th>Point E</th>\n",
       "    </tr>\n",
       "  </thead>\n",
       "  <tbody>\n",
       "    <tr>\n",
       "      <th>0</th>\n",
       "      <td>0.2807019358965,0.4244344252102</td>\n",
       "      <td>0.4211343666572,0.4556416320459</td>\n",
       "      <td>0.5366010319493,0.4275551458938</td>\n",
       "      <td>0.8549145416735,0.4181929838431</td>\n",
       "      <td>0.6801541833936,0.4244344252102</td>\n",
       "    </tr>\n",
       "    <tr>\n",
       "      <th>1</th>\n",
       "      <td>0.9514520023251,0.8831535204871</td>\n",
       "      <td>0,0</td>\n",
       "      <td>0.9753223788295,0.7120824888718</td>\n",
       "      <td>0.4899580565721,0.5410114572565</td>\n",
       "      <td>0.4422173035632,0.409724386482</td>\n",
       "    </tr>\n",
       "    <tr>\n",
       "      <th>2</th>\n",
       "      <td>0.5256835405573,0.2245299934992</td>\n",
       "      <td>0.1309621903588,0.5303057532548</td>\n",
       "      <td>0.2802085009625,0.1866406978221</td>\n",
       "      <td>0.2249766170537,0.616222017113</td>\n",
       "      <td>0.2679347489828,0.8739708086875</td>\n",
       "    </tr>\n",
       "    <tr>\n",
       "      <th>3</th>\n",
       "      <td>0.3218181818182,0.41</td>\n",
       "      <td>0.3872727272727,0.81</td>\n",
       "      <td>0.8963636363636,0.3554545454545</td>\n",
       "      <td>0.4236363636364,0.3918181818182</td>\n",
       "      <td>0.8781818181818,0.6463636363636</td>\n",
       "    </tr>\n",
       "    <tr>\n",
       "      <th>4</th>\n",
       "      <td>0.2592110836956,0.1869342057736</td>\n",
       "      <td>0.9236032297365,0.0994094919239</td>\n",
       "      <td>0,0</td>\n",
       "      <td>0.1279240129211,0.8592831439827</td>\n",
       "      <td>0.9076896454002,0.6524065476107</td>\n",
       "    </tr>\n",
       "    <tr>\n",
       "      <th>5</th>\n",
       "      <td>0.587052300456,0.2490774974587</td>\n",
       "      <td>0.6729685643142,0.0588343417727</td>\n",
       "      <td>0.8754854719799,0.2541463337106</td>\n",
       "      <td>0.6545579363446,0.5978113891433</td>\n",
       "      <td>0.7834323321318,0.9107920646267</td>\n",
       "    </tr>\n",
       "    <tr>\n",
       "      <th>6</th>\n",
       "      <td>0.2188397410638,0.8443544684761</td>\n",
       "      <td>0.1370990663486,0.3963625212156</td>\n",
       "      <td>0.2004291130942,0.1989144498018</td>\n",
       "      <td>0.0082246705614,0.7635070408698</td>\n",
       "      <td>0,0</td>\n",
       "    </tr>\n",
       "    <tr>\n",
       "      <th>7</th>\n",
       "      <td>0.3148,0.3020909090909</td>\n",
       "      <td>0.3144,0.1093090909091</td>\n",
       "      <td>0.8963636363636,0.3554545454545</td>\n",
       "      <td>0.3792,0.2545090909091</td>\n",
       "      <td>0.8874,0.2778909090909</td>\n",
       "    </tr>\n",
       "    <tr>\n",
       "      <th>8</th>\n",
       "      <td>0.6568924626906,0.9106327291667</td>\n",
       "      <td>0.4948789365581,0.6878641307344</td>\n",
       "      <td>0.77840260729,0.4988483502464</td>\n",
       "      <td>0.4543755550249,0.2423269338698</td>\n",
       "      <td>0.6231396447463,0.1005650985038</td>\n",
       "    </tr>\n",
       "    <tr>\n",
       "      <th>9</th>\n",
       "      <td>0.8997328532321,0.8513263518145</td>\n",
       "      <td>0.5536123939174,0.413702782566</td>\n",
       "      <td>0.8082297432983,0.8911103126553</td>\n",
       "      <td>0.4621092839836,0.564881833761</td>\n",
       "      <td>0.4,0.4</td>\n",
       "    </tr>\n",
       "  </tbody>\n",
       "</table>\n",
       "</div>"
      ],
      "text/plain": [
       "                           Point A                          Point B  \\\n",
       "0  0.2807019358965,0.4244344252102  0.4211343666572,0.4556416320459   \n",
       "1  0.9514520023251,0.8831535204871                              0,0   \n",
       "2  0.5256835405573,0.2245299934992  0.1309621903588,0.5303057532548   \n",
       "3             0.3218181818182,0.41             0.3872727272727,0.81   \n",
       "4  0.2592110836956,0.1869342057736  0.9236032297365,0.0994094919239   \n",
       "5   0.587052300456,0.2490774974587  0.6729685643142,0.0588343417727   \n",
       "6  0.2188397410638,0.8443544684761  0.1370990663486,0.3963625212156   \n",
       "7           0.3148,0.3020909090909           0.3144,0.1093090909091   \n",
       "8  0.6568924626906,0.9106327291667  0.4948789365581,0.6878641307344   \n",
       "9  0.8997328532321,0.8513263518145   0.5536123939174,0.413702782566   \n",
       "\n",
       "                           Point C                          Point D  \\\n",
       "0  0.5366010319493,0.4275551458938  0.8549145416735,0.4181929838431   \n",
       "1  0.9753223788295,0.7120824888718  0.4899580565721,0.5410114572565   \n",
       "2  0.2802085009625,0.1866406978221   0.2249766170537,0.616222017113   \n",
       "3  0.8963636363636,0.3554545454545  0.4236363636364,0.3918181818182   \n",
       "4                              0,0  0.1279240129211,0.8592831439827   \n",
       "5  0.8754854719799,0.2541463337106  0.6545579363446,0.5978113891433   \n",
       "6  0.2004291130942,0.1989144498018  0.0082246705614,0.7635070408698   \n",
       "7  0.8963636363636,0.3554545454545           0.3792,0.2545090909091   \n",
       "8    0.77840260729,0.4988483502464  0.4543755550249,0.2423269338698   \n",
       "9  0.8082297432983,0.8911103126553   0.4621092839836,0.564881833761   \n",
       "\n",
       "                           Point E  \n",
       "0  0.6801541833936,0.4244344252102  \n",
       "1   0.4422173035632,0.409724386482  \n",
       "2  0.2679347489828,0.8739708086875  \n",
       "3  0.8781818181818,0.6463636363636  \n",
       "4  0.9076896454002,0.6524065476107  \n",
       "5  0.7834323321318,0.9107920646267  \n",
       "6                              0,0  \n",
       "7           0.8874,0.2778909090909  \n",
       "8  0.6231396447463,0.1005650985038  \n",
       "9                          0.4,0.4  "
      ]
     },
     "execution_count": 61,
     "metadata": {},
     "output_type": "execute_result"
    }
   ],
   "source": [
    "raw_df_selected.head(10)"
   ]
  },
  {
   "cell_type": "code",
   "execution_count": 62,
   "id": "df475442-ed56-4dcf-928b-a4f909d2d2df",
   "metadata": {},
   "outputs": [
    {
     "data": {
      "text/plain": [
       "(316, 5)"
      ]
     },
     "execution_count": 62,
     "metadata": {},
     "output_type": "execute_result"
    }
   ],
   "source": [
    "#  convert the data frame to an array for further operation\n",
    "\n",
    "raw_df_selected_array = raw_df_selected[['Point A', \"Point B\", \"Point C\", \"Point D\", \"Point E\"]].to_numpy()\n",
    "np.shape(raw_df_selected_array)"
   ]
  },
  {
   "cell_type": "code",
   "execution_count": 63,
   "id": "6af05979-0f81-4ade-ac71-b94c1984d86b",
   "metadata": {},
   "outputs": [],
   "source": [
    "rows = len(raw_df_selected_array);  \n",
    "cols = len(raw_df_selected_array[0]);"
   ]
  },
  {
   "cell_type": "code",
   "execution_count": 64,
   "id": "8bc2d2ca-de50-4fbc-bf2f-4c5b44838cba",
   "metadata": {},
   "outputs": [
    {
     "name": "stdout",
     "output_type": "stream",
     "text": [
      "316\n",
      "5\n"
     ]
    }
   ],
   "source": [
    "print(rows)\n",
    "print(cols)"
   ]
  },
  {
   "cell_type": "code",
   "execution_count": 65,
   "id": "ec4c738b-bdfd-42d6-9811-d2f934f43937",
   "metadata": {},
   "outputs": [],
   "source": [
    "c = np.array([]) \n",
    "\n",
    "for i in range(0, rows): \n",
    "    \n",
    "    for j in range(0,cols):\n",
    "        \n",
    "        # raw_df_selected_array[i,j]   #selected point\n",
    "        my_string = raw_df_selected_array[i,j]\n",
    "        my_list = my_string.split(\",\")\n",
    "        c = np.append(c, [float(my_list[0]),float(my_list[1])] )\n",
    "        \n",
    "        "
   ]
  },
  {
   "cell_type": "code",
   "execution_count": 66,
   "id": "d0ab3c39-27b8-4fe8-a8a5-be8b9ae58b61",
   "metadata": {},
   "outputs": [
    {
     "data": {
      "text/plain": [
       "(3160,)"
      ]
     },
     "execution_count": 66,
     "metadata": {},
     "output_type": "execute_result"
    }
   ],
   "source": [
    "np.shape(c)"
   ]
  },
  {
   "cell_type": "code",
   "execution_count": 67,
   "id": "6b5a3f0d-d4e3-48c9-ac82-25a474bc57cf",
   "metadata": {},
   "outputs": [],
   "source": [
    "d = np.reshape(c, (rows,10)) # reshape into each row 10 points"
   ]
  },
  {
   "cell_type": "code",
   "execution_count": 12,
   "id": "62daf4fa-aec0-454d-aa58-7c13b756450f",
   "metadata": {},
   "outputs": [],
   "source": [
    "# e = np.reshape(d[0], (5,2)) # group each row into 5 points"
   ]
  },
  {
   "cell_type": "code",
   "execution_count": 68,
   "id": "b94d3473-c503-41aa-b436-5ecff329455b",
   "metadata": {},
   "outputs": [
    {
     "data": {
      "text/plain": [
       "316"
      ]
     },
     "execution_count": 68,
     "metadata": {},
     "output_type": "execute_result"
    }
   ],
   "source": [
    "row_in_d = len(d)\n",
    "\n",
    "row_in_d"
   ]
  },
  {
   "cell_type": "code",
   "execution_count": 69,
   "id": "c82a4430-118e-4ff8-a267-446a25a5b277",
   "metadata": {},
   "outputs": [],
   "source": [
    "# calculate pdist for each sample d[i]\n",
    "\n",
    "for i in range(0, row_in_d):\n",
    "    \n",
    "    a = np.reshape(d[i], (5,2))\n",
    "    out = squareform(pdist(a))  #pdistarray\n",
    "    rows = len(out);  \n",
    "    cols = len(out[0]);\n",
    "    out_summed = np.array([])\n",
    "    for j in range(0, rows):  \n",
    "        sumRow = 0;  \n",
    "        for k in range(0, cols):  \n",
    "            sumRow = sumRow + out[j][k];\n",
    "        out_summed = np.append(out_summed, [sumRow], axis=0)\n",
    "    matrix = np.matrix(out_summed)\n",
    "    if (i==0) :\n",
    "        DF = pd.DataFrame(matrix, columns=['Point A','Point B', 'Point C', 'Point D', 'Point E'], index = [i])\n",
    "    else:\n",
    "        DF2 = pd.DataFrame(matrix, columns=['Point A','Point B', 'Point C', 'Point D', 'Point E'], index = [i])\n",
    "        DF = pd.concat([DF, DF2])\n",
    "\n",
    "extracted_col = raw_df[\"Error Classification\"]\n",
    "DF = DF.join(extracted_col)\n",
    "\n",
    "DF.to_csv(\"dataset_with_error.csv\")\n",
    "    \n",
    "    "
   ]
  },
  {
   "cell_type": "code",
   "execution_count": 70,
   "id": "ff0d81ca-f146-42bd-8140-2128bba811f6",
   "metadata": {},
   "outputs": [
    {
     "data": {
      "text/html": [
       "<div>\n",
       "<style scoped>\n",
       "    .dataframe tbody tr th:only-of-type {\n",
       "        vertical-align: middle;\n",
       "    }\n",
       "\n",
       "    .dataframe tbody tr th {\n",
       "        vertical-align: top;\n",
       "    }\n",
       "\n",
       "    .dataframe thead th {\n",
       "        text-align: right;\n",
       "    }\n",
       "</style>\n",
       "<table border=\"1\" class=\"dataframe\">\n",
       "  <thead>\n",
       "    <tr style=\"text-align: right;\">\n",
       "      <th></th>\n",
       "      <th>Point A</th>\n",
       "      <th>Point B</th>\n",
       "      <th>Point C</th>\n",
       "      <th>Point D</th>\n",
       "      <th>Point E</th>\n",
       "      <th>Error Classification</th>\n",
       "    </tr>\n",
       "  </thead>\n",
       "  <tbody>\n",
       "    <tr>\n",
       "      <th>0</th>\n",
       "      <td>1.373475</td>\n",
       "      <td>0.958978</td>\n",
       "      <td>0.836790</td>\n",
       "      <td>1.502963</td>\n",
       "      <td>0.978804</td>\n",
       "      <td>A</td>\n",
       "    </tr>\n",
       "    <tr>\n",
       "      <th>1</th>\n",
       "      <td>2.740688</td>\n",
       "      <td>3.838518</td>\n",
       "      <td>2.507845</td>\n",
       "      <td>1.958716</td>\n",
       "      <td>2.050739</td>\n",
       "      <td>C</td>\n",
       "    </tr>\n",
       "    <tr>\n",
       "      <th>2</th>\n",
       "      <td>1.940213</td>\n",
       "      <td>1.371291</td>\n",
       "      <td>1.743612</td>\n",
       "      <td>1.315589</td>\n",
       "      <td>2.017418</td>\n",
       "      <td>B</td>\n",
       "    </tr>\n",
       "    <tr>\n",
       "      <th>3</th>\n",
       "      <td>1.690368</td>\n",
       "      <td>2.025028</td>\n",
       "      <td>2.025214</td>\n",
       "      <td>1.518278</td>\n",
       "      <td>1.934396</td>\n",
       "      <td>A</td>\n",
       "    </tr>\n",
       "    <tr>\n",
       "      <th>4</th>\n",
       "      <td>2.473006</td>\n",
       "      <td>3.252529</td>\n",
       "      <td>3.235102</td>\n",
       "      <td>3.460775</td>\n",
       "      <td>3.276035</td>\n",
       "      <td>D</td>\n",
       "    </tr>\n",
       "  </tbody>\n",
       "</table>\n",
       "</div>"
      ],
      "text/plain": [
       "    Point A   Point B   Point C   Point D   Point E Error Classification\n",
       "0  1.373475  0.958978  0.836790  1.502963  0.978804                    A\n",
       "1  2.740688  3.838518  2.507845  1.958716  2.050739                    C\n",
       "2  1.940213  1.371291  1.743612  1.315589  2.017418                    B\n",
       "3  1.690368  2.025028  2.025214  1.518278  1.934396                    A\n",
       "4  2.473006  3.252529  3.235102  3.460775  3.276035                    D"
      ]
     },
     "execution_count": 70,
     "metadata": {},
     "output_type": "execute_result"
    }
   ],
   "source": [
    "DF.head()"
   ]
  },
  {
   "cell_type": "code",
   "execution_count": null,
   "id": "54a18420-f5b6-48f0-990b-c42923314da9",
   "metadata": {},
   "outputs": [],
   "source": []
  }
 ],
 "metadata": {
  "kernelspec": {
   "display_name": "mlpds",
   "language": "python",
   "name": "mlpds"
  },
  "language_info": {
   "codemirror_mode": {
    "name": "ipython",
    "version": 3
   },
   "file_extension": ".py",
   "mimetype": "text/x-python",
   "name": "python",
   "nbconvert_exporter": "python",
   "pygments_lexer": "ipython3",
   "version": "3.9.0"
  }
 },
 "nbformat": 4,
 "nbformat_minor": 5
}
