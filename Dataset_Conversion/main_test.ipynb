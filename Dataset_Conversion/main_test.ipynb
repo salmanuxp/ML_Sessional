{
 "cells": [
  {
   "cell_type": "code",
   "execution_count": 11,
   "id": "a51aec26-4e1a-428a-bb61-3b7293a59090",
   "metadata": {},
   "outputs": [],
   "source": [
    "import numpy as np\n",
    "import pandas as pd\n",
    "from scipy.spatial.distance import squareform, pdist\n"
   ]
  },
  {
   "cell_type": "code",
   "execution_count": 12,
   "id": "1eabfe16-d5fb-4d1d-bccd-4c6087296857",
   "metadata": {},
   "outputs": [
    {
     "name": "stdout",
     "output_type": "stream",
     "text": [
      "                           Point A                          Point B  \\\n",
      "0  0.0654729774355,0.5596031813822                          0.2,0.6   \n",
      "1  0.1832274339834,0.7000027257277                          0.2,0.6   \n",
      "2  0.5727229441034,0.5188420233464  0.4912006280318,0.4554357775129   \n",
      "3  0.8444639976755,0.5958353218584   0.459497505115,0.4916679179891   \n",
      "4  0.2194595744597,0.3331523034054  0.2421046622573,0.3784424790008   \n",
      "\n",
      "                           Point C                          Point D  \\\n",
      "0  0.3100399256504,0.5550741638226                          0.4,0.6   \n",
      "1  0.1786984164239,0.5052549706677  0.2556917149359,0.4146746194771   \n",
      "2                          0.2,0.4  0.2692787676145,0.3240942682864   \n",
      "3  0.2013435042215,0.5233710409059  0.4821425929127,0.1701076712622   \n",
      "4  0.1651113637452,0.3784424790008  0.2375756446978,0.2697460575719   \n",
      "\n",
      "                           Point E Error Classification  \n",
      "0  0.5364908036271,0.5596031813822                    A  \n",
      "1  0.1651113637452,0.3059781980482                    B  \n",
      "2  0.1651113637452,0.3059781980482                    C  \n",
      "3  0.1651113637452,0.3059781980482                    D  \n",
      "4  0.1651113637452,0.3059781980482                    E  \n"
     ]
    }
   ],
   "source": [
    "#1 fetch the raw.csv file\n",
    "\n",
    "raw_df = pd.read_csv(\"testdata.csv\")\n",
    "print(raw_df.head())"
   ]
  },
  {
   "cell_type": "code",
   "execution_count": 13,
   "id": "9f32131c-1439-4f18-8fa2-6aae71b00adf",
   "metadata": {},
   "outputs": [],
   "source": [
    "raw_df['Point A'].fillna(value='0,0', inplace=True)\n",
    "raw_df['Point B'].fillna(value='0,0', inplace=True)\n",
    "raw_df['Point C'].fillna(value='0,0', inplace=True)\n",
    "raw_df['Point D'].fillna(value='0,0', inplace=True)\n",
    "raw_df['Point E'].fillna(value='0,0', inplace=True)"
   ]
  },
  {
   "cell_type": "code",
   "execution_count": 14,
   "id": "9e748a09-96bb-44a0-886a-0144ccfe57a2",
   "metadata": {},
   "outputs": [
    {
     "data": {
      "text/plain": [
       "Point A                 0\n",
       "Point B                 0\n",
       "Point C                 0\n",
       "Point D                 0\n",
       "Point E                 0\n",
       "Error Classification    0\n",
       "dtype: int64"
      ]
     },
     "execution_count": 14,
     "metadata": {},
     "output_type": "execute_result"
    }
   ],
   "source": [
    "raw_df.isnull().sum()"
   ]
  },
  {
   "cell_type": "code",
   "execution_count": 15,
   "id": "9fba6591-57cc-4814-8916-a7f82b04b52b",
   "metadata": {},
   "outputs": [],
   "source": [
    "# after fetching , select columns and store it in raw_df_selected\n",
    "\n",
    "columns = ['Point A', 'Point B', 'Point C', 'Point D', 'Point E']\n",
    "raw_df_selected = raw_df[columns]"
   ]
  },
  {
   "cell_type": "code",
   "execution_count": 16,
   "id": "66216502-40a0-427d-a3f6-1868531c35e9",
   "metadata": {},
   "outputs": [
    {
     "data": {
      "text/html": [
       "<div>\n",
       "<style scoped>\n",
       "    .dataframe tbody tr th:only-of-type {\n",
       "        vertical-align: middle;\n",
       "    }\n",
       "\n",
       "    .dataframe tbody tr th {\n",
       "        vertical-align: top;\n",
       "    }\n",
       "\n",
       "    .dataframe thead th {\n",
       "        text-align: right;\n",
       "    }\n",
       "</style>\n",
       "<table border=\"1\" class=\"dataframe\">\n",
       "  <thead>\n",
       "    <tr style=\"text-align: right;\">\n",
       "      <th></th>\n",
       "      <th>Point A</th>\n",
       "      <th>Point B</th>\n",
       "      <th>Point C</th>\n",
       "      <th>Point D</th>\n",
       "      <th>Point E</th>\n",
       "    </tr>\n",
       "  </thead>\n",
       "  <tbody>\n",
       "    <tr>\n",
       "      <th>0</th>\n",
       "      <td>0.0654729774355,0.5596031813822</td>\n",
       "      <td>0.2,0.6</td>\n",
       "      <td>0.3100399256504,0.5550741638226</td>\n",
       "      <td>0.4,0.6</td>\n",
       "      <td>0.5364908036271,0.5596031813822</td>\n",
       "    </tr>\n",
       "    <tr>\n",
       "      <th>1</th>\n",
       "      <td>0.1832274339834,0.7000027257277</td>\n",
       "      <td>0.2,0.6</td>\n",
       "      <td>0.1786984164239,0.5052549706677</td>\n",
       "      <td>0.2556917149359,0.4146746194771</td>\n",
       "      <td>0.1651113637452,0.3059781980482</td>\n",
       "    </tr>\n",
       "    <tr>\n",
       "      <th>2</th>\n",
       "      <td>0.5727229441034,0.5188420233464</td>\n",
       "      <td>0.4912006280318,0.4554357775129</td>\n",
       "      <td>0.2,0.4</td>\n",
       "      <td>0.2692787676145,0.3240942682864</td>\n",
       "      <td>0.1651113637452,0.3059781980482</td>\n",
       "    </tr>\n",
       "    <tr>\n",
       "      <th>3</th>\n",
       "      <td>0.8444639976755,0.5958353218584</td>\n",
       "      <td>0.459497505115,0.4916679179891</td>\n",
       "      <td>0.2013435042215,0.5233710409059</td>\n",
       "      <td>0.4821425929127,0.1701076712622</td>\n",
       "      <td>0.1651113637452,0.3059781980482</td>\n",
       "    </tr>\n",
       "    <tr>\n",
       "      <th>4</th>\n",
       "      <td>0.2194595744597,0.3331523034054</td>\n",
       "      <td>0.2421046622573,0.3784424790008</td>\n",
       "      <td>0.1651113637452,0.3784424790008</td>\n",
       "      <td>0.2375756446978,0.2697460575719</td>\n",
       "      <td>0.1651113637452,0.3059781980482</td>\n",
       "    </tr>\n",
       "  </tbody>\n",
       "</table>\n",
       "</div>"
      ],
      "text/plain": [
       "                           Point A                          Point B  \\\n",
       "0  0.0654729774355,0.5596031813822                          0.2,0.6   \n",
       "1  0.1832274339834,0.7000027257277                          0.2,0.6   \n",
       "2  0.5727229441034,0.5188420233464  0.4912006280318,0.4554357775129   \n",
       "3  0.8444639976755,0.5958353218584   0.459497505115,0.4916679179891   \n",
       "4  0.2194595744597,0.3331523034054  0.2421046622573,0.3784424790008   \n",
       "\n",
       "                           Point C                          Point D  \\\n",
       "0  0.3100399256504,0.5550741638226                          0.4,0.6   \n",
       "1  0.1786984164239,0.5052549706677  0.2556917149359,0.4146746194771   \n",
       "2                          0.2,0.4  0.2692787676145,0.3240942682864   \n",
       "3  0.2013435042215,0.5233710409059  0.4821425929127,0.1701076712622   \n",
       "4  0.1651113637452,0.3784424790008  0.2375756446978,0.2697460575719   \n",
       "\n",
       "                           Point E  \n",
       "0  0.5364908036271,0.5596031813822  \n",
       "1  0.1651113637452,0.3059781980482  \n",
       "2  0.1651113637452,0.3059781980482  \n",
       "3  0.1651113637452,0.3059781980482  \n",
       "4  0.1651113637452,0.3059781980482  "
      ]
     },
     "execution_count": 16,
     "metadata": {},
     "output_type": "execute_result"
    }
   ],
   "source": [
    "raw_df_selected.head(10)"
   ]
  },
  {
   "cell_type": "code",
   "execution_count": 17,
   "id": "df475442-ed56-4dcf-928b-a4f909d2d2df",
   "metadata": {},
   "outputs": [
    {
     "data": {
      "text/plain": [
       "(5, 5)"
      ]
     },
     "execution_count": 17,
     "metadata": {},
     "output_type": "execute_result"
    }
   ],
   "source": [
    "#  convert the data frame to an array for further operation\n",
    "\n",
    "raw_df_selected_array = raw_df_selected[['Point A', \"Point B\", \"Point C\", \"Point D\", \"Point E\"]].to_numpy()\n",
    "np.shape(raw_df_selected_array)"
   ]
  },
  {
   "cell_type": "code",
   "execution_count": 18,
   "id": "6af05979-0f81-4ade-ac71-b94c1984d86b",
   "metadata": {},
   "outputs": [],
   "source": [
    "rows = len(raw_df_selected_array);  \n",
    "cols = len(raw_df_selected_array[0]);"
   ]
  },
  {
   "cell_type": "code",
   "execution_count": 19,
   "id": "8bc2d2ca-de50-4fbc-bf2f-4c5b44838cba",
   "metadata": {},
   "outputs": [
    {
     "name": "stdout",
     "output_type": "stream",
     "text": [
      "5\n",
      "5\n"
     ]
    }
   ],
   "source": [
    "print(rows)\n",
    "print(cols)"
   ]
  },
  {
   "cell_type": "code",
   "execution_count": 20,
   "id": "ec4c738b-bdfd-42d6-9811-d2f934f43937",
   "metadata": {},
   "outputs": [],
   "source": [
    "c = np.array([]) \n",
    "\n",
    "for i in range(0, rows): \n",
    "    \n",
    "    for j in range(0,cols):\n",
    "        \n",
    "        # raw_df_selected_array[i,j]   #selected point\n",
    "        my_string = raw_df_selected_array[i,j]\n",
    "        my_list = my_string.split(\",\")\n",
    "        c = np.append(c, [float(my_list[0]),float(my_list[1])] )\n",
    "        \n",
    "        "
   ]
  },
  {
   "cell_type": "code",
   "execution_count": 21,
   "id": "d0ab3c39-27b8-4fe8-a8a5-be8b9ae58b61",
   "metadata": {},
   "outputs": [
    {
     "data": {
      "text/plain": [
       "(50,)"
      ]
     },
     "execution_count": 21,
     "metadata": {},
     "output_type": "execute_result"
    }
   ],
   "source": [
    "np.shape(c)"
   ]
  },
  {
   "cell_type": "code",
   "execution_count": 22,
   "id": "6b5a3f0d-d4e3-48c9-ac82-25a474bc57cf",
   "metadata": {},
   "outputs": [],
   "source": [
    "d = np.reshape(c, (rows,10)) # reshape into each row 10 points"
   ]
  },
  {
   "cell_type": "code",
   "execution_count": 23,
   "id": "62daf4fa-aec0-454d-aa58-7c13b756450f",
   "metadata": {},
   "outputs": [],
   "source": [
    "# e = np.reshape(d[0], (5,2)) # group each row into 5 points"
   ]
  },
  {
   "cell_type": "code",
   "execution_count": 24,
   "id": "b94d3473-c503-41aa-b436-5ecff329455b",
   "metadata": {},
   "outputs": [
    {
     "data": {
      "text/plain": [
       "5"
      ]
     },
     "execution_count": 24,
     "metadata": {},
     "output_type": "execute_result"
    }
   ],
   "source": [
    "row_in_d = len(d)\n",
    "\n",
    "row_in_d"
   ]
  },
  {
   "cell_type": "code",
   "execution_count": 25,
   "id": "c82a4430-118e-4ff8-a267-446a25a5b277",
   "metadata": {},
   "outputs": [],
   "source": [
    "# calculate pdist for each sample d[i]\n",
    "\n",
    "for i in range(0, row_in_d):\n",
    "    \n",
    "    a = np.reshape(d[i], (5,2))\n",
    "    out = squareform(pdist(a))  #pdistarray\n",
    "    rows = len(out);  \n",
    "    cols = len(out[0]);\n",
    "    out_summed = np.array([])\n",
    "    for j in range(0, rows):  \n",
    "        sumRow = 0;  \n",
    "        for k in range(0, cols):  \n",
    "            sumRow = sumRow + out[j][k];\n",
    "        out_summed = np.append(out_summed, [sumRow], axis=0)\n",
    "    matrix = np.matrix(out_summed)\n",
    "    if (i==0) :\n",
    "        DF = pd.DataFrame(matrix, columns=['Point A','Point B', 'Point C', 'Point D', 'Point E'], index = [i])\n",
    "    else:\n",
    "        DF2 = pd.DataFrame(matrix, columns=['Point A','Point B', 'Point C', 'Point D', 'Point E'], index = [i])\n",
    "        DF = pd.concat([DF, DF2])\n",
    "\n",
    "extracted_col = raw_df[\"Error Classification\"]\n",
    "DF = DF.join(extracted_col)\n",
    "\n",
    "DF.to_csv(\"testdata_dist.csv\")\n",
    "    \n",
    "    "
   ]
  },
  {
   "cell_type": "code",
   "execution_count": 26,
   "id": "ff0d81ca-f146-42bd-8140-2128bba811f6",
   "metadata": {},
   "outputs": [
    {
     "data": {
      "text/html": [
       "<div>\n",
       "<style scoped>\n",
       "    .dataframe tbody tr th:only-of-type {\n",
       "        vertical-align: middle;\n",
       "    }\n",
       "\n",
       "    .dataframe tbody tr th {\n",
       "        vertical-align: top;\n",
       "    }\n",
       "\n",
       "    .dataframe thead th {\n",
       "        text-align: right;\n",
       "    }\n",
       "</style>\n",
       "<table border=\"1\" class=\"dataframe\">\n",
       "  <thead>\n",
       "    <tr style=\"text-align: right;\">\n",
       "      <th></th>\n",
       "      <th>Point A</th>\n",
       "      <th>Point B</th>\n",
       "      <th>Point C</th>\n",
       "      <th>Point D</th>\n",
       "      <th>Point E</th>\n",
       "      <th>Error Classification</th>\n",
       "    </tr>\n",
       "  </thead>\n",
       "  <tbody>\n",
       "    <tr>\n",
       "      <th>0</th>\n",
       "      <td>1.193045</td>\n",
       "      <td>0.798226</td>\n",
       "      <td>0.690517</td>\n",
       "      <td>0.779855</td>\n",
       "      <td>1.178764</td>\n",
       "      <td>A</td>\n",
       "    </tr>\n",
       "    <tr>\n",
       "      <th>1</th>\n",
       "      <td>0.985027</td>\n",
       "      <td>0.688107</td>\n",
       "      <td>0.610531</td>\n",
       "      <td>0.748271</td>\n",
       "      <td>1.031756</td>\n",
       "      <td>B</td>\n",
       "    </tr>\n",
       "    <tr>\n",
       "      <th>2</th>\n",
       "      <td>1.314896</td>\n",
       "      <td>1.016292</td>\n",
       "      <td>0.890695</td>\n",
       "      <td>0.826937</td>\n",
       "      <td>1.024571</td>\n",
       "      <td>C</td>\n",
       "    </tr>\n",
       "    <tr>\n",
       "      <th>3</th>\n",
       "      <td>2.343641</td>\n",
       "      <td>1.329318</td>\n",
       "      <td>1.578943</td>\n",
       "      <td>1.677580</td>\n",
       "      <td>1.651973</td>\n",
       "      <td>D</td>\n",
       "    </tr>\n",
       "    <tr>\n",
       "      <th>4</th>\n",
       "      <td>0.248088</td>\n",
       "      <td>0.342151</td>\n",
       "      <td>0.350840</td>\n",
       "      <td>0.386389</td>\n",
       "      <td>0.319976</td>\n",
       "      <td>E</td>\n",
       "    </tr>\n",
       "  </tbody>\n",
       "</table>\n",
       "</div>"
      ],
      "text/plain": [
       "    Point A   Point B   Point C   Point D   Point E Error Classification\n",
       "0  1.193045  0.798226  0.690517  0.779855  1.178764                    A\n",
       "1  0.985027  0.688107  0.610531  0.748271  1.031756                    B\n",
       "2  1.314896  1.016292  0.890695  0.826937  1.024571                    C\n",
       "3  2.343641  1.329318  1.578943  1.677580  1.651973                    D\n",
       "4  0.248088  0.342151  0.350840  0.386389  0.319976                    E"
      ]
     },
     "execution_count": 26,
     "metadata": {},
     "output_type": "execute_result"
    }
   ],
   "source": [
    "DF.head()"
   ]
  },
  {
   "cell_type": "code",
   "execution_count": null,
   "id": "54a18420-f5b6-48f0-990b-c42923314da9",
   "metadata": {},
   "outputs": [],
   "source": []
  }
 ],
 "metadata": {
  "kernelspec": {
   "display_name": "mlpds",
   "language": "python",
   "name": "mlpds"
  },
  "language_info": {
   "codemirror_mode": {
    "name": "ipython",
    "version": 3
   },
   "file_extension": ".py",
   "mimetype": "text/x-python",
   "name": "python",
   "nbconvert_exporter": "python",
   "pygments_lexer": "ipython3",
   "version": "3.9.0"
  }
 },
 "nbformat": 4,
 "nbformat_minor": 5
}
