{
 "cells": [
  {
   "cell_type": "code",
   "execution_count": 102,
   "id": "4957e8c0-c43b-4cdb-9f10-25bb6f437f60",
   "metadata": {},
   "outputs": [],
   "source": [
    "import numpy as np\n",
    "import pandas as pd\n",
    "from scipy.spatial.distance import squareform, pdist\n",
    "\n"
   ]
  },
  {
   "cell_type": "code",
   "execution_count": 13,
   "id": "b41a3e52-c25c-4d63-b980-e47b1dc4cdf9",
   "metadata": {},
   "outputs": [
    {
     "data": {
      "text/plain": [
       "array([[0, 0],\n",
       "       [1, 2],\n",
       "       [3, 4],\n",
       "       [5, 6],\n",
       "       [7, 8]])"
      ]
     },
     "execution_count": 13,
     "metadata": {},
     "output_type": "execute_result"
    }
   ],
   "source": [
    "a = np.array([ [0,0], [1,2], [3,4], [5,6], [7,8] ])\n",
    "a"
   ]
  },
  {
   "cell_type": "code",
   "execution_count": 222,
   "id": "06bb09a0-b54c-4822-bd95-bbb5764c7b98",
   "metadata": {},
   "outputs": [
    {
     "data": {
      "text/plain": [
       "(5, 2)"
      ]
     },
     "execution_count": 222,
     "metadata": {},
     "output_type": "execute_result"
    }
   ],
   "source": [
    "np.shape(a)"
   ]
  },
  {
   "cell_type": "code",
   "execution_count": 33,
   "id": "32ed2e32-8065-48b2-bfbd-7c3387a589c9",
   "metadata": {},
   "outputs": [],
   "source": [
    "out = squareform(pdist(a))"
   ]
  },
  {
   "cell_type": "code",
   "execution_count": 34,
   "id": "f91dffb8-0015-4ff7-84a3-3383d5d7c154",
   "metadata": {},
   "outputs": [
    {
     "data": {
      "text/plain": [
       "array([[ 0.        ,  2.23606798,  5.        ,  7.81024968, 10.63014581],\n",
       "       [ 2.23606798,  0.        ,  2.82842712,  5.65685425,  8.48528137],\n",
       "       [ 5.        ,  2.82842712,  0.        ,  2.82842712,  5.65685425],\n",
       "       [ 7.81024968,  5.65685425,  2.82842712,  0.        ,  2.82842712],\n",
       "       [10.63014581,  8.48528137,  5.65685425,  2.82842712,  0.        ]])"
      ]
     },
     "execution_count": 34,
     "metadata": {},
     "output_type": "execute_result"
    }
   ],
   "source": [
    "out"
   ]
  },
  {
   "cell_type": "code",
   "execution_count": 29,
   "id": "3bd95656-d873-4ed1-973f-7f4434f22f68",
   "metadata": {},
   "outputs": [
    {
     "name": "stdout",
     "output_type": "stream",
     "text": [
      "(25,)\n"
     ]
    }
   ],
   "source": [
    "print(np.shape(out))"
   ]
  },
  {
   "cell_type": "code",
   "execution_count": 22,
   "id": "f4b103af-335d-4ae5-8d2f-f3e756a1255c",
   "metadata": {},
   "outputs": [],
   "source": [
    "x = np.reshape(out, 25)"
   ]
  },
  {
   "cell_type": "code",
   "execution_count": 23,
   "id": "23313bef-a565-4421-ba6a-75ea8fd18994",
   "metadata": {},
   "outputs": [
    {
     "data": {
      "text/plain": [
       "array([ 0.        ,  2.23606798,  5.        ,  7.81024968, 10.63014581,\n",
       "        2.23606798,  0.        ,  2.82842712,  5.65685425,  8.48528137,\n",
       "        5.        ,  2.82842712,  0.        ,  2.82842712,  5.65685425,\n",
       "        7.81024968,  5.65685425,  2.82842712,  0.        ,  2.82842712,\n",
       "       10.63014581,  8.48528137,  5.65685425,  2.82842712,  0.        ])"
      ]
     },
     "execution_count": 23,
     "metadata": {},
     "output_type": "execute_result"
    }
   ],
   "source": [
    "x"
   ]
  },
  {
   "cell_type": "code",
   "execution_count": 24,
   "id": "e318f00e-55c8-4127-86d5-9cf89fee5368",
   "metadata": {},
   "outputs": [
    {
     "data": {
      "text/plain": [
       "(25,)"
      ]
     },
     "execution_count": 24,
     "metadata": {},
     "output_type": "execute_result"
    }
   ],
   "source": [
    "np.shape(x)"
   ]
  },
  {
   "cell_type": "code",
   "execution_count": null,
   "id": "0242f2f5-11ca-49fa-b002-b7c58b06fa38",
   "metadata": {},
   "outputs": [],
   "source": []
  },
  {
   "cell_type": "code",
   "execution_count": null,
   "id": "3dea3b85-7064-4f36-b91e-715aadcdb5d2",
   "metadata": {},
   "outputs": [],
   "source": []
  },
  {
   "cell_type": "code",
   "execution_count": 41,
   "id": "b277a9a2-68ac-4843-9e8a-65418969f120",
   "metadata": {},
   "outputs": [],
   "source": [
    "# sum of each row in out matrix\n",
    "\n",
    "\n",
    "rows = len(out);  \n",
    "cols = len(out[0]);  "
   ]
  },
  {
   "cell_type": "code",
   "execution_count": 39,
   "id": "da5681aa-5f92-42cb-9df6-65de9cc688b7",
   "metadata": {},
   "outputs": [
    {
     "data": {
      "text/plain": [
       "5"
      ]
     },
     "execution_count": 39,
     "metadata": {},
     "output_type": "execute_result"
    }
   ],
   "source": [
    "rows"
   ]
  },
  {
   "cell_type": "code",
   "execution_count": 40,
   "id": "a4f8165b-d816-4ea0-8802-71bb416ddc06",
   "metadata": {},
   "outputs": [
    {
     "data": {
      "text/plain": [
       "5"
      ]
     },
     "execution_count": 40,
     "metadata": {},
     "output_type": "execute_result"
    }
   ],
   "source": [
    "cols"
   ]
  },
  {
   "cell_type": "code",
   "execution_count": 120,
   "id": "ce877be9-ca2b-4237-9d99-3c80b2b8ff8c",
   "metadata": {},
   "outputs": [],
   "source": [
    "out_summed = np.array([])\n",
    "\n",
    "\n",
    "for i in range(0, rows):  \n",
    "    sumRow = 0;  \n",
    "    for j in range(0, cols):  \n",
    "        sumRow = sumRow + out[i][j];\n",
    "    out_summed = np.append(out_summed, [sumRow], axis=0)\n",
    "    "
   ]
  },
  {
   "cell_type": "code",
   "execution_count": 121,
   "id": "5ee0a7df-2c90-4709-b59d-cf7ef444b4e9",
   "metadata": {},
   "outputs": [
    {
     "data": {
      "text/plain": [
       "array([25.67646347, 19.20663073, 16.3137085 , 19.12395817, 27.60070856])"
      ]
     },
     "execution_count": 121,
     "metadata": {},
     "output_type": "execute_result"
    }
   ],
   "source": [
    "out_summed"
   ]
  },
  {
   "cell_type": "code",
   "execution_count": 124,
   "id": "b4d898fd-4d02-4257-a4d2-37c739aebae6",
   "metadata": {},
   "outputs": [],
   "source": [
    "matrix = np.matrix(out_summed)"
   ]
  },
  {
   "cell_type": "code",
   "execution_count": 125,
   "id": "c00c5093-05ca-42b4-a5d0-79cf2ab6d0c6",
   "metadata": {},
   "outputs": [
    {
     "data": {
      "text/plain": [
       "matrix([[25.67646347, 19.20663073, 16.3137085 , 19.12395817, 27.60070856]])"
      ]
     },
     "execution_count": 125,
     "metadata": {},
     "output_type": "execute_result"
    }
   ],
   "source": [
    "matrix"
   ]
  },
  {
   "cell_type": "code",
   "execution_count": 155,
   "id": "f1e91c60-1c8a-402a-a931-e01ea8fcb104",
   "metadata": {},
   "outputs": [],
   "source": [
    "# convert array into dataframe\n",
    "DF = pd.DataFrame(matrix, columns=['A', \n",
    "                      'B', 'C', 'D', 'E' ], index = ['1'])\n",
    "DF2 = pd.DataFrame(matrix, columns=['A', \n",
    "                      'B', 'C', 'D', 'E' ], index = ['2'])\n",
    "\n",
    "# DF.append(DF2)\n",
    "DF = pd.concat([DF, DF2])\n",
    "DF.to_csv(\"dataset.csv\")"
   ]
  },
  {
   "cell_type": "code",
   "execution_count": null,
   "id": "d4b3fd4b-9cf0-443e-a05b-28068b6cc309",
   "metadata": {},
   "outputs": [],
   "source": []
  },
  {
   "cell_type": "code",
   "execution_count": null,
   "id": "f05c5882-d37a-40f8-82b9-928bb7e4e07a",
   "metadata": {},
   "outputs": [],
   "source": [
    "# read from raw dataset"
   ]
  },
  {
   "cell_type": "code",
   "execution_count": 157,
   "id": "5d66b79c-0af2-468f-8898-c7cae8bd8ff6",
   "metadata": {},
   "outputs": [
    {
     "name": "stdout",
     "output_type": "stream",
     "text": [
      "   No                          Point A                          Point B  \\\n",
      "0   1  0.2807019358965,0.4244344252102  0.4211343666572,0.4556416320459   \n",
      "1   3  0.5256835405573,0.2245299934992  0.1309621903588,0.5303057532548   \n",
      "2   4             0.3218181818182,0.41             0.3872727272727,0.81   \n",
      "3   6   0.587052300456,0.2490774974587  0.6729685643142,0.0588343417727   \n",
      "4   8           0.3148,0.3020909090909           0.3144,0.1093090909091   \n",
      "\n",
      "                           Point C                          Point D  \\\n",
      "0  0.5366010319493,0.4275551458938  0.8549145416735,0.4181929838431   \n",
      "1  0.2802085009625,0.1866406978221   0.2249766170537,0.616222017113   \n",
      "2  0.8963636363636,0.3554545454545  0.4236363636364,0.3918181818182   \n",
      "3  0.8754854719799,0.2541463337106  0.6545579363446,0.5978113891433   \n",
      "4  0.8963636363636,0.3554545454545           0.3792,0.2545090909091   \n",
      "\n",
      "                           Point E Error Classification  \n",
      "0  0.6801541833936,0.4244344252102                    A  \n",
      "1  0.2679347489828,0.8739708086875                    B  \n",
      "2  0.8781818181818,0.6463636363636                    A  \n",
      "3  0.7834323321318,0.9107920646267                    B  \n",
      "4           0.8874,0.2778909090909                    A  \n"
     ]
    }
   ],
   "source": [
    "import pandas as pd\n",
    " \n",
    "# creating a data frame\n",
    "raw_df = pd.read_csv(\"raw.csv\")\n",
    "print(raw_df.head())"
   ]
  },
  {
   "cell_type": "code",
   "execution_count": 158,
   "id": "dc0b0d0e-098d-4d69-8c03-2a45a02f6d46",
   "metadata": {},
   "outputs": [],
   "source": [
    "columns = ['Point A', 'Point B', 'Point C', 'Point D', 'Point E']\n",
    "raw_df_selected = raw_df[columns]"
   ]
  },
  {
   "cell_type": "code",
   "execution_count": 163,
   "id": "79070628-33db-43f9-b970-8cf890367f10",
   "metadata": {},
   "outputs": [
    {
     "data": {
      "text/plain": [
       "(45, 5)"
      ]
     },
     "execution_count": 163,
     "metadata": {},
     "output_type": "execute_result"
    }
   ],
   "source": [
    "raw_df_selected_array = raw_df_selected[['Point A', \"Point B\", \"Point C\", \"Point D\", \"Point E\"]].to_numpy()\n",
    "np.shape(raw_df_selected_array)"
   ]
  },
  {
   "cell_type": "code",
   "execution_count": 166,
   "id": "732169c5-e0c9-459f-bfb0-e2322eb02823",
   "metadata": {},
   "outputs": [
    {
     "data": {
      "text/plain": [
       "'0.2807019358965,0.4244344252102'"
      ]
     },
     "execution_count": 166,
     "metadata": {},
     "output_type": "execute_result"
    }
   ],
   "source": [
    "raw_df_selected_array[0,0]"
   ]
  },
  {
   "cell_type": "code",
   "execution_count": 167,
   "id": "b38d779b-9f57-4511-80b8-d2198912a65e",
   "metadata": {},
   "outputs": [],
   "source": [
    "point = repr(raw_df_selected_array[0,0])"
   ]
  },
  {
   "cell_type": "code",
   "execution_count": 168,
   "id": "89a810cf-fd7a-489e-93e3-252f9e965e22",
   "metadata": {},
   "outputs": [
    {
     "data": {
      "text/plain": [
       "\"'0.2807019358965,0.4244344252102'\""
      ]
     },
     "execution_count": 168,
     "metadata": {},
     "output_type": "execute_result"
    }
   ],
   "source": [
    "point"
   ]
  },
  {
   "cell_type": "code",
   "execution_count": 181,
   "id": "c1b55314-d41e-4404-a8b1-22ae448dea9c",
   "metadata": {},
   "outputs": [
    {
     "name": "stdout",
     "output_type": "stream",
     "text": [
      "0.2807019358965\n"
     ]
    }
   ],
   "source": [
    "my_string = raw_df_selected_array[0,0]\n",
    "my_list = my_string.split(\",\")\n",
    "print(float(my_list[0]))"
   ]
  },
  {
   "cell_type": "code",
   "execution_count": 258,
   "id": "327ae5d3-0504-4873-b707-9bd7a524ed90",
   "metadata": {},
   "outputs": [],
   "source": [
    "c = np.array([])"
   ]
  },
  {
   "cell_type": "code",
   "execution_count": 269,
   "id": "136be667-264f-4c37-b7ba-cd6cc20d2e84",
   "metadata": {},
   "outputs": [],
   "source": [
    "c = np.append(c, [0,0] )"
   ]
  },
  {
   "cell_type": "code",
   "execution_count": 261,
   "id": "2e566449-b375-4e4d-8ec0-4df2f22ec3bb",
   "metadata": {},
   "outputs": [
    {
     "data": {
      "text/plain": [
       "array([0., 0.])"
      ]
     },
     "execution_count": 261,
     "metadata": {},
     "output_type": "execute_result"
    }
   ],
   "source": [
    "c"
   ]
  },
  {
   "cell_type": "code",
   "execution_count": 270,
   "id": "6860131c-3ddf-4697-9cda-15adced105bb",
   "metadata": {},
   "outputs": [
    {
     "data": {
      "text/plain": [
       "(10,)"
      ]
     },
     "execution_count": 270,
     "metadata": {},
     "output_type": "execute_result"
    }
   ],
   "source": [
    "np.shape(c)"
   ]
  },
  {
   "cell_type": "code",
   "execution_count": 271,
   "id": "b3fc7d9d-8c3f-490e-856e-7ceca7dcc43e",
   "metadata": {},
   "outputs": [],
   "source": [
    "d = np.reshape(c, (5,2))"
   ]
  },
  {
   "cell_type": "code",
   "execution_count": 272,
   "id": "fc78b359-49a3-4c23-bd06-b4d90273adf4",
   "metadata": {},
   "outputs": [
    {
     "data": {
      "text/plain": [
       "array([[0., 0.],\n",
       "       [0., 0.],\n",
       "       [0., 0.],\n",
       "       [0., 0.],\n",
       "       [0., 0.]])"
      ]
     },
     "execution_count": 272,
     "metadata": {},
     "output_type": "execute_result"
    }
   ],
   "source": [
    "d"
   ]
  },
  {
   "cell_type": "code",
   "execution_count": null,
   "id": "168843e2-b5a9-4715-afca-21d76c239a8b",
   "metadata": {},
   "outputs": [],
   "source": []
  }
 ],
 "metadata": {
  "kernelspec": {
   "display_name": "mlpds",
   "language": "python",
   "name": "mlpds"
  },
  "language_info": {
   "codemirror_mode": {
    "name": "ipython",
    "version": 3
   },
   "file_extension": ".py",
   "mimetype": "text/x-python",
   "name": "python",
   "nbconvert_exporter": "python",
   "pygments_lexer": "ipython3",
   "version": "3.9.0"
  }
 },
 "nbformat": 4,
 "nbformat_minor": 5
}
