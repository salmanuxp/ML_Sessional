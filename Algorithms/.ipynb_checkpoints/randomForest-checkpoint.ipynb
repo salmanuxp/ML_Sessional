{
 "cells": [
  {
   "cell_type": "code",
   "execution_count": 72,
   "id": "726e0074-423e-4e60-a4a0-76d0d5ebeb8d",
   "metadata": {},
   "outputs": [],
   "source": [
    "import numpy as np\n",
    "import pandas as pd\n"
   ]
  },
  {
   "cell_type": "code",
   "execution_count": 73,
   "id": "df6e65ad-4442-4df7-bc3c-2227edeb265b",
   "metadata": {},
   "outputs": [
    {
     "data": {
      "text/html": [
       "<div>\n",
       "<style scoped>\n",
       "    .dataframe tbody tr th:only-of-type {\n",
       "        vertical-align: middle;\n",
       "    }\n",
       "\n",
       "    .dataframe tbody tr th {\n",
       "        vertical-align: top;\n",
       "    }\n",
       "\n",
       "    .dataframe thead th {\n",
       "        text-align: right;\n",
       "    }\n",
       "</style>\n",
       "<table border=\"1\" class=\"dataframe\">\n",
       "  <thead>\n",
       "    <tr style=\"text-align: right;\">\n",
       "      <th></th>\n",
       "      <th>Unnamed: 0</th>\n",
       "      <th>Point A</th>\n",
       "      <th>Point B</th>\n",
       "      <th>Point C</th>\n",
       "      <th>Point D</th>\n",
       "      <th>Point E</th>\n",
       "      <th>Error Classification</th>\n",
       "    </tr>\n",
       "  </thead>\n",
       "  <tbody>\n",
       "    <tr>\n",
       "      <th>0</th>\n",
       "      <td>0</td>\n",
       "      <td>1.373475</td>\n",
       "      <td>0.958978</td>\n",
       "      <td>0.836790</td>\n",
       "      <td>1.502963</td>\n",
       "      <td>0.978804</td>\n",
       "      <td>A</td>\n",
       "    </tr>\n",
       "    <tr>\n",
       "      <th>1</th>\n",
       "      <td>1</td>\n",
       "      <td>1.940213</td>\n",
       "      <td>1.371291</td>\n",
       "      <td>1.743612</td>\n",
       "      <td>1.315589</td>\n",
       "      <td>2.017418</td>\n",
       "      <td>B</td>\n",
       "    </tr>\n",
       "    <tr>\n",
       "      <th>2</th>\n",
       "      <td>2</td>\n",
       "      <td>1.690368</td>\n",
       "      <td>2.025028</td>\n",
       "      <td>2.025214</td>\n",
       "      <td>1.518278</td>\n",
       "      <td>1.934396</td>\n",
       "      <td>A</td>\n",
       "    </tr>\n",
       "    <tr>\n",
       "      <th>3</th>\n",
       "      <td>3</td>\n",
       "      <td>1.542669</td>\n",
       "      <td>1.888478</td>\n",
       "      <td>1.641450</td>\n",
       "      <td>1.641526</td>\n",
       "      <td>2.550871</td>\n",
       "      <td>B</td>\n",
       "    </tr>\n",
       "    <tr>\n",
       "      <th>4</th>\n",
       "      <td>4</td>\n",
       "      <td>1.429971</td>\n",
       "      <td>1.580948</td>\n",
       "      <td>1.820888</td>\n",
       "      <td>1.274735</td>\n",
       "      <td>1.757213</td>\n",
       "      <td>A</td>\n",
       "    </tr>\n",
       "    <tr>\n",
       "      <th>...</th>\n",
       "      <td>...</td>\n",
       "      <td>...</td>\n",
       "      <td>...</td>\n",
       "      <td>...</td>\n",
       "      <td>...</td>\n",
       "      <td>...</td>\n",
       "      <td>...</td>\n",
       "    </tr>\n",
       "    <tr>\n",
       "      <th>306</th>\n",
       "      <td>306</td>\n",
       "      <td>0.234889</td>\n",
       "      <td>0.341797</td>\n",
       "      <td>0.312052</td>\n",
       "      <td>0.323540</td>\n",
       "      <td>0.359836</td>\n",
       "      <td>E</td>\n",
       "    </tr>\n",
       "    <tr>\n",
       "      <th>307</th>\n",
       "      <td>307</td>\n",
       "      <td>0.235683</td>\n",
       "      <td>0.339810</td>\n",
       "      <td>0.340483</td>\n",
       "      <td>0.328003</td>\n",
       "      <td>0.329723</td>\n",
       "      <td>E</td>\n",
       "    </tr>\n",
       "    <tr>\n",
       "      <th>308</th>\n",
       "      <td>308</td>\n",
       "      <td>0.231840</td>\n",
       "      <td>0.313921</td>\n",
       "      <td>0.329652</td>\n",
       "      <td>0.349243</td>\n",
       "      <td>0.341359</td>\n",
       "      <td>E</td>\n",
       "    </tr>\n",
       "    <tr>\n",
       "      <th>309</th>\n",
       "      <td>309</td>\n",
       "      <td>0.237851</td>\n",
       "      <td>0.306959</td>\n",
       "      <td>0.316966</td>\n",
       "      <td>0.357427</td>\n",
       "      <td>0.358833</td>\n",
       "      <td>E</td>\n",
       "    </tr>\n",
       "    <tr>\n",
       "      <th>310</th>\n",
       "      <td>310</td>\n",
       "      <td>0.234731</td>\n",
       "      <td>0.343230</td>\n",
       "      <td>0.315228</td>\n",
       "      <td>0.321040</td>\n",
       "      <td>0.357567</td>\n",
       "      <td>E</td>\n",
       "    </tr>\n",
       "  </tbody>\n",
       "</table>\n",
       "<p>311 rows × 7 columns</p>\n",
       "</div>"
      ],
      "text/plain": [
       "     Unnamed: 0   Point A   Point B   Point C   Point D   Point E  \\\n",
       "0             0  1.373475  0.958978  0.836790  1.502963  0.978804   \n",
       "1             1  1.940213  1.371291  1.743612  1.315589  2.017418   \n",
       "2             2  1.690368  2.025028  2.025214  1.518278  1.934396   \n",
       "3             3  1.542669  1.888478  1.641450  1.641526  2.550871   \n",
       "4             4  1.429971  1.580948  1.820888  1.274735  1.757213   \n",
       "..          ...       ...       ...       ...       ...       ...   \n",
       "306         306  0.234889  0.341797  0.312052  0.323540  0.359836   \n",
       "307         307  0.235683  0.339810  0.340483  0.328003  0.329723   \n",
       "308         308  0.231840  0.313921  0.329652  0.349243  0.341359   \n",
       "309         309  0.237851  0.306959  0.316966  0.357427  0.358833   \n",
       "310         310  0.234731  0.343230  0.315228  0.321040  0.357567   \n",
       "\n",
       "    Error Classification  \n",
       "0                      A  \n",
       "1                      B  \n",
       "2                      A  \n",
       "3                      B  \n",
       "4                      A  \n",
       "..                   ...  \n",
       "306                    E  \n",
       "307                    E  \n",
       "308                    E  \n",
       "309                    E  \n",
       "310                    E  \n",
       "\n",
       "[311 rows x 7 columns]"
      ]
     },
     "execution_count": 73,
     "metadata": {},
     "output_type": "execute_result"
    }
   ],
   "source": [
    "df = pd.read_csv(\"../dataset/dataset_with_error.csv\")\n",
    "\n",
    "df"
   ]
  },
  {
   "cell_type": "code",
   "execution_count": 74,
   "id": "118ce2e9-127d-4776-a955-70305fb7c656",
   "metadata": {},
   "outputs": [
    {
     "data": {
      "text/html": [
       "<div>\n",
       "<style scoped>\n",
       "    .dataframe tbody tr th:only-of-type {\n",
       "        vertical-align: middle;\n",
       "    }\n",
       "\n",
       "    .dataframe tbody tr th {\n",
       "        vertical-align: top;\n",
       "    }\n",
       "\n",
       "    .dataframe thead th {\n",
       "        text-align: right;\n",
       "    }\n",
       "</style>\n",
       "<table border=\"1\" class=\"dataframe\">\n",
       "  <thead>\n",
       "    <tr style=\"text-align: right;\">\n",
       "      <th></th>\n",
       "      <th>Point A</th>\n",
       "      <th>Point B</th>\n",
       "      <th>Point C</th>\n",
       "      <th>Point D</th>\n",
       "      <th>Point E</th>\n",
       "      <th>Error Classification</th>\n",
       "    </tr>\n",
       "  </thead>\n",
       "  <tbody>\n",
       "    <tr>\n",
       "      <th>0</th>\n",
       "      <td>1.373475</td>\n",
       "      <td>0.958978</td>\n",
       "      <td>0.836790</td>\n",
       "      <td>1.502963</td>\n",
       "      <td>0.978804</td>\n",
       "      <td>A</td>\n",
       "    </tr>\n",
       "    <tr>\n",
       "      <th>1</th>\n",
       "      <td>1.940213</td>\n",
       "      <td>1.371291</td>\n",
       "      <td>1.743612</td>\n",
       "      <td>1.315589</td>\n",
       "      <td>2.017418</td>\n",
       "      <td>B</td>\n",
       "    </tr>\n",
       "    <tr>\n",
       "      <th>2</th>\n",
       "      <td>1.690368</td>\n",
       "      <td>2.025028</td>\n",
       "      <td>2.025214</td>\n",
       "      <td>1.518278</td>\n",
       "      <td>1.934396</td>\n",
       "      <td>A</td>\n",
       "    </tr>\n",
       "    <tr>\n",
       "      <th>3</th>\n",
       "      <td>1.542669</td>\n",
       "      <td>1.888478</td>\n",
       "      <td>1.641450</td>\n",
       "      <td>1.641526</td>\n",
       "      <td>2.550871</td>\n",
       "      <td>B</td>\n",
       "    </tr>\n",
       "    <tr>\n",
       "      <th>4</th>\n",
       "      <td>1.429971</td>\n",
       "      <td>1.580948</td>\n",
       "      <td>1.820888</td>\n",
       "      <td>1.274735</td>\n",
       "      <td>1.757213</td>\n",
       "      <td>A</td>\n",
       "    </tr>\n",
       "    <tr>\n",
       "      <th>...</th>\n",
       "      <td>...</td>\n",
       "      <td>...</td>\n",
       "      <td>...</td>\n",
       "      <td>...</td>\n",
       "      <td>...</td>\n",
       "      <td>...</td>\n",
       "    </tr>\n",
       "    <tr>\n",
       "      <th>306</th>\n",
       "      <td>0.234889</td>\n",
       "      <td>0.341797</td>\n",
       "      <td>0.312052</td>\n",
       "      <td>0.323540</td>\n",
       "      <td>0.359836</td>\n",
       "      <td>E</td>\n",
       "    </tr>\n",
       "    <tr>\n",
       "      <th>307</th>\n",
       "      <td>0.235683</td>\n",
       "      <td>0.339810</td>\n",
       "      <td>0.340483</td>\n",
       "      <td>0.328003</td>\n",
       "      <td>0.329723</td>\n",
       "      <td>E</td>\n",
       "    </tr>\n",
       "    <tr>\n",
       "      <th>308</th>\n",
       "      <td>0.231840</td>\n",
       "      <td>0.313921</td>\n",
       "      <td>0.329652</td>\n",
       "      <td>0.349243</td>\n",
       "      <td>0.341359</td>\n",
       "      <td>E</td>\n",
       "    </tr>\n",
       "    <tr>\n",
       "      <th>309</th>\n",
       "      <td>0.237851</td>\n",
       "      <td>0.306959</td>\n",
       "      <td>0.316966</td>\n",
       "      <td>0.357427</td>\n",
       "      <td>0.358833</td>\n",
       "      <td>E</td>\n",
       "    </tr>\n",
       "    <tr>\n",
       "      <th>310</th>\n",
       "      <td>0.234731</td>\n",
       "      <td>0.343230</td>\n",
       "      <td>0.315228</td>\n",
       "      <td>0.321040</td>\n",
       "      <td>0.357567</td>\n",
       "      <td>E</td>\n",
       "    </tr>\n",
       "  </tbody>\n",
       "</table>\n",
       "<p>311 rows × 6 columns</p>\n",
       "</div>"
      ],
      "text/plain": [
       "      Point A   Point B   Point C   Point D   Point E Error Classification\n",
       "0    1.373475  0.958978  0.836790  1.502963  0.978804                    A\n",
       "1    1.940213  1.371291  1.743612  1.315589  2.017418                    B\n",
       "2    1.690368  2.025028  2.025214  1.518278  1.934396                    A\n",
       "3    1.542669  1.888478  1.641450  1.641526  2.550871                    B\n",
       "4    1.429971  1.580948  1.820888  1.274735  1.757213                    A\n",
       "..        ...       ...       ...       ...       ...                  ...\n",
       "306  0.234889  0.341797  0.312052  0.323540  0.359836                    E\n",
       "307  0.235683  0.339810  0.340483  0.328003  0.329723                    E\n",
       "308  0.231840  0.313921  0.329652  0.349243  0.341359                    E\n",
       "309  0.237851  0.306959  0.316966  0.357427  0.358833                    E\n",
       "310  0.234731  0.343230  0.315228  0.321040  0.357567                    E\n",
       "\n",
       "[311 rows x 6 columns]"
      ]
     },
     "execution_count": 74,
     "metadata": {},
     "output_type": "execute_result"
    }
   ],
   "source": [
    "df = df.drop('Unnamed: 0', axis=1)\n",
    "df"
   ]
  },
  {
   "cell_type": "code",
   "execution_count": 75,
   "id": "4a7a97d4-6cb6-45c6-8f5d-00107184774e",
   "metadata": {},
   "outputs": [],
   "source": [
    "# Separating the training set and test set\n",
    "\n",
    "from sklearn.model_selection import train_test_split\n",
    "\n",
    "X = df.drop('Error Classification',axis=1)\n",
    "\n",
    "y = df['Error Classification']\n",
    "X_train, X_test, y_train, y_test = train_test_split(X, y, test_size=0.30, random_state=101)\n"
   ]
  },
  {
   "cell_type": "code",
   "execution_count": 76,
   "id": "96e43fff-c8a6-4ac1-9fa7-e117ff0d6470",
   "metadata": {},
   "outputs": [],
   "source": [
    "from sklearn.ensemble import RandomForestClassifier # classifier\n",
    "est =5000\n",
    "n_cores = -1\n",
    "\n",
    "rf = RandomForestClassifier(n_estimators=est, oob_score=True, verbose=1, n_jobs=n_cores)"
   ]
  },
  {
   "cell_type": "code",
   "execution_count": 77,
   "id": "f9fc7fa1-847f-4557-a4c5-40f112e788ae",
   "metadata": {},
   "outputs": [
    {
     "name": "stderr",
     "output_type": "stream",
     "text": [
      "[Parallel(n_jobs=-1)]: Using backend ThreadingBackend with 16 concurrent workers.\n",
      "[Parallel(n_jobs=-1)]: Done  18 tasks      | elapsed:    0.0s\n",
      "[Parallel(n_jobs=-1)]: Done 168 tasks      | elapsed:    0.1s\n",
      "[Parallel(n_jobs=-1)]: Done 418 tasks      | elapsed:    0.3s\n",
      "[Parallel(n_jobs=-1)]: Done 768 tasks      | elapsed:    0.7s\n",
      "[Parallel(n_jobs=-1)]: Done 1218 tasks      | elapsed:    1.1s\n",
      "[Parallel(n_jobs=-1)]: Done 1768 tasks      | elapsed:    1.6s\n",
      "[Parallel(n_jobs=-1)]: Done 2418 tasks      | elapsed:    2.3s\n",
      "[Parallel(n_jobs=-1)]: Done 3168 tasks      | elapsed:    3.0s\n",
      "[Parallel(n_jobs=-1)]: Done 4018 tasks      | elapsed:    3.8s\n",
      "[Parallel(n_jobs=-1)]: Done 4968 tasks      | elapsed:    4.7s\n",
      "[Parallel(n_jobs=-1)]: Done 5000 out of 5000 | elapsed:    4.8s finished\n",
      "[Parallel(n_jobs=16)]: Using backend ThreadingBackend with 16 concurrent workers.\n",
      "[Parallel(n_jobs=16)]: Done  18 tasks      | elapsed:    0.0s\n",
      "[Parallel(n_jobs=16)]: Done 168 tasks      | elapsed:    0.0s\n",
      "[Parallel(n_jobs=16)]: Done 418 tasks      | elapsed:    0.0s\n",
      "[Parallel(n_jobs=16)]: Done 768 tasks      | elapsed:    0.0s\n",
      "[Parallel(n_jobs=16)]: Done 1218 tasks      | elapsed:    0.1s\n",
      "[Parallel(n_jobs=16)]: Done 1768 tasks      | elapsed:    0.1s\n",
      "[Parallel(n_jobs=16)]: Done 2418 tasks      | elapsed:    0.2s\n",
      "[Parallel(n_jobs=16)]: Done 3168 tasks      | elapsed:    0.3s\n",
      "[Parallel(n_jobs=16)]: Done 4018 tasks      | elapsed:    0.4s\n",
      "[Parallel(n_jobs=16)]: Done 4968 tasks      | elapsed:    0.5s\n",
      "[Parallel(n_jobs=16)]: Done 5000 out of 5000 | elapsed:    0.5s finished\n"
     ]
    }
   ],
   "source": [
    "rf2 = rf.fit(X, y)\n",
    "y_pred = rf.predict(X_test)"
   ]
  },
  {
   "cell_type": "code",
   "execution_count": 78,
   "id": "0d941f6e-407f-4088-9fe8-118b04ccc944",
   "metadata": {},
   "outputs": [
    {
     "name": "stderr",
     "output_type": "stream",
     "text": [
      "[Parallel(n_jobs=16)]: Using backend ThreadingBackend with 16 concurrent workers.\n",
      "[Parallel(n_jobs=16)]: Done  18 tasks      | elapsed:    0.0s\n",
      "[Parallel(n_jobs=16)]: Done 168 tasks      | elapsed:    0.0s\n",
      "[Parallel(n_jobs=16)]: Done 418 tasks      | elapsed:    0.0s\n",
      "[Parallel(n_jobs=16)]: Done 768 tasks      | elapsed:    0.0s\n",
      "[Parallel(n_jobs=16)]: Done 1218 tasks      | elapsed:    0.1s\n",
      "[Parallel(n_jobs=16)]: Done 1768 tasks      | elapsed:    0.2s\n",
      "[Parallel(n_jobs=16)]: Done 2418 tasks      | elapsed:    0.3s\n",
      "[Parallel(n_jobs=16)]: Done 3168 tasks      | elapsed:    0.5s\n",
      "[Parallel(n_jobs=16)]: Done 4018 tasks      | elapsed:    0.6s\n",
      "[Parallel(n_jobs=16)]: Done 4968 tasks      | elapsed:    0.8s\n",
      "[Parallel(n_jobs=16)]: Done 5000 out of 5000 | elapsed:    0.8s finished\n"
     ]
    },
    {
     "data": {
      "image/png": "[encoded data removed]",
      "text/plain": [
       "<Figure size 1000x700 with 2 Axes>"
      ]
     },
     "metadata": {},
     "output_type": "display_data"
    }
   ],
   "source": [
    "from sklearn.metrics import confusion_matrix\n",
    "import seaborn as sn\n",
    "import matplotlib.pyplot as plt\n",
    "\n",
    "\n",
    "cm = confusion_matrix(y,rf.predict(X))\n",
    "plt.figure(figsize=(10,7))\n",
    "sn.heatmap(cm, annot=True, fmt='g')\n",
    "plt.xlabel('classes - predicted')\n",
    "plt.ylabel('classes - truth')\n",
    "plt.show()\n"
   ]
  },
  {
   "cell_type": "code",
   "execution_count": 79,
   "id": "cf7d9c66-0ef5-41a5-a664-ef88c6451ded",
   "metadata": {},
   "outputs": [],
   "source": [
    "from sklearn.metrics import accuracy_score\n",
    "\n",
    "score = accuracy_score(y_test, y_pred)"
   ]
  },
  {
   "cell_type": "code",
   "execution_count": 80,
   "id": "ff1c5c0d-3699-4c01-b7bb-c6df1c0383d0",
   "metadata": {},
   "outputs": [
    {
     "data": {
      "text/plain": [
       "1.0"
      ]
     },
     "execution_count": 80,
     "metadata": {},
     "output_type": "execute_result"
    }
   ],
   "source": [
    "score"
   ]
  },
  {
   "cell_type": "code",
   "execution_count": null,
   "id": "3cce6414-cd0c-432e-9f39-4c1c0b6180bd",
   "metadata": {},
   "outputs": [],
   "source": []
  },
  {
   "cell_type": "code",
   "execution_count": null,
   "id": "a5365e5b-a0e2-4a30-92e4-f41534956854",
   "metadata": {},
   "outputs": [],
   "source": []
  },
  {
   "cell_type": "markdown",
   "id": "fd32a9c9-50c8-4a68-adf2-2a267881f0b0",
   "metadata": {
    "tags": []
   },
   "source": [
    "## Accuracy "
   ]
  },
  {
   "cell_type": "code",
   "execution_count": 85,
   "id": "72b4638b-a464-45c7-a623-a7510c543c3e",
   "metadata": {},
   "outputs": [
    {
     "name": "stdout",
     "output_type": "stream",
     "text": [
      "Accuracy is:  100.0\n"
     ]
    }
   ],
   "source": [
    "\n",
    "print(\"Accuracy is: \",accuracy_score(y_test, y_pred)*100)"
   ]
  },
  {
   "cell_type": "markdown",
   "id": "b0435266-e658-4542-ab29-6b0122f5806f",
   "metadata": {},
   "source": [
    "## Precision"
   ]
  },
  {
   "cell_type": "code",
   "execution_count": 86,
   "id": "42283092-9a4b-471f-afa3-5d9a20f509f1",
   "metadata": {},
   "outputs": [
    {
     "name": "stdout",
     "output_type": "stream",
     "text": [
      "Precision:  1.0\n"
     ]
    }
   ],
   "source": [
    "from sklearn.metrics import precision_score\n",
    "precision = precision_score(y_test, y_pred, average=\"weighted\")\n",
    "print('Precision: ',precision)"
   ]
  },
  {
   "cell_type": "markdown",
   "id": "ccf5dad5-0be5-43e1-bef3-77bd1dce6b08",
   "metadata": {},
   "source": [
    "## Recall"
   ]
  },
  {
   "cell_type": "code",
   "execution_count": 87,
   "id": "8c678732-8990-417e-b03a-3fd47a6e73ea",
   "metadata": {},
   "outputs": [
    {
     "name": "stdout",
     "output_type": "stream",
     "text": [
      "Recall:  1.0\n"
     ]
    }
   ],
   "source": [
    "from sklearn.metrics import recall_score\n",
    "recall = recall_score(y_test, y_pred, average=\"weighted\")\n",
    "print('Recall: ',recall)"
   ]
  },
  {
   "cell_type": "markdown",
   "id": "7647665e-2453-4f2e-868e-73151ba76a22",
   "metadata": {},
   "source": [
    "## F1 Score"
   ]
  },
  {
   "cell_type": "code",
   "execution_count": 89,
   "id": "db74a020-83b9-4450-9b77-a24e3f4708d3",
   "metadata": {},
   "outputs": [
    {
     "name": "stdout",
     "output_type": "stream",
     "text": [
      "F1 Score:  1.0\n"
     ]
    }
   ],
   "source": [
    "from sklearn.metrics import f1_score\n",
    "f1_score = 2 * (precision * recall ) / (precision + recall)\n",
    "print('F1 Score: ',f1_score)\n"
   ]
  },
  {
   "cell_type": "code",
   "execution_count": null,
   "id": "43ef359b-3b5f-4618-81f8-f99d52d49d92",
   "metadata": {},
   "outputs": [],
   "source": []
  },
  {
   "cell_type": "code",
   "execution_count": null,
   "id": "6d3d0d9b-f7e3-431d-9eb9-f57debe43807",
   "metadata": {},
   "outputs": [],
   "source": []
  },
  {
   "cell_type": "code",
   "execution_count": null,
   "id": "dbc733ff-8854-4796-8e28-917613a0058e",
   "metadata": {},
   "outputs": [],
   "source": []
  },
  {
   "cell_type": "code",
   "execution_count": null,
   "id": "ad7644df-8214-4594-97bd-d5083e468a69",
   "metadata": {},
   "outputs": [],
   "source": []
  },
  {
   "cell_type": "code",
   "execution_count": null,
   "id": "4bca8e1e-75fc-477e-8c7f-2ca4d7bd4968",
   "metadata": {},
   "outputs": [],
   "source": []
  },
  {
   "cell_type": "code",
   "execution_count": null,
   "id": "b697c6db-f82a-4648-9951-c12cc9639478",
   "metadata": {},
   "outputs": [],
   "source": []
  },
  {
   "cell_type": "code",
   "execution_count": null,
   "id": "057bb534-9814-485a-b931-2a8440f5de75",
   "metadata": {},
   "outputs": [],
   "source": []
  },
  {
   "cell_type": "code",
   "execution_count": null,
   "id": "9b693bac-9458-45c5-9c69-ee968d6c16a5",
   "metadata": {},
   "outputs": [],
   "source": []
  },
  {
   "cell_type": "code",
   "execution_count": null,
   "id": "97bf0e14-5954-4188-ad43-faa4ecdefe2b",
   "metadata": {},
   "outputs": [],
   "source": []
  },
  {
   "cell_type": "code",
   "execution_count": null,
   "id": "6b2184ab-7388-4e06-945a-4763ab8734c0",
   "metadata": {},
   "outputs": [],
   "source": []
  },
  {
   "cell_type": "code",
   "execution_count": null,
   "id": "ad61745f-08f7-4b68-b046-3d4aa7c870bd",
   "metadata": {},
   "outputs": [],
   "source": []
  },
  {
   "cell_type": "code",
   "execution_count": null,
   "id": "aa341bfb-f636-41a6-96fb-6210990b3c01",
   "metadata": {},
   "outputs": [],
   "source": []
  },
  {
   "cell_type": "code",
   "execution_count": null,
   "id": "0574320c-c2bc-46fb-bc1f-f91374acc980",
   "metadata": {},
   "outputs": [],
   "source": []
  },
  {
   "cell_type": "markdown",
   "id": "6254d228-eb71-4a79-a87d-d6f9d9cdb02e",
   "metadata": {},
   "source": [
    "## Predictions from validations set\n",
    "\n"
   ]
  },
  {
   "cell_type": "code",
   "execution_count": 81,
   "id": "445bda84-89a2-403b-984d-21a2774e3869",
   "metadata": {},
   "outputs": [
    {
     "name": "stderr",
     "output_type": "stream",
     "text": [
      "[Parallel(n_jobs=16)]: Using backend ThreadingBackend with 16 concurrent workers.\n",
      "[Parallel(n_jobs=16)]: Done  18 tasks      | elapsed:    0.0s\n",
      "[Parallel(n_jobs=16)]: Done 168 tasks      | elapsed:    0.0s\n",
      "[Parallel(n_jobs=16)]: Done 418 tasks      | elapsed:    0.0s\n",
      "[Parallel(n_jobs=16)]: Done 768 tasks      | elapsed:    0.0s\n",
      "[Parallel(n_jobs=16)]: Done 1218 tasks      | elapsed:    0.0s\n",
      "[Parallel(n_jobs=16)]: Done 1768 tasks      | elapsed:    0.1s\n",
      "[Parallel(n_jobs=16)]: Done 2418 tasks      | elapsed:    0.2s\n",
      "[Parallel(n_jobs=16)]: Done 3168 tasks      | elapsed:    0.3s\n",
      "[Parallel(n_jobs=16)]: Done 4018 tasks      | elapsed:    0.4s\n",
      "[Parallel(n_jobs=16)]: Done 4968 tasks      | elapsed:    0.5s\n",
      "[Parallel(n_jobs=16)]: Done 5000 out of 5000 | elapsed:    0.5s finished\n"
     ]
    },
    {
     "data": {
      "text/plain": [
       "array(['B', 'A', 'A', 'C', 'E'], dtype=object)"
      ]
     },
     "execution_count": 81,
     "metadata": {},
     "output_type": "execute_result"
    }
   ],
   "source": [
    "dfn = pd.read_csv(\"../dataset/validation_ds.csv\")\n",
    "df2 = pd.read_csv(\"../dataset/validation_ds.csv\")\n",
    "df2 = df2.drop('Unnamed: 0', axis=1)\n",
    "df2 = df2.drop('Error Classification', axis=1)\n",
    "df2_pred = rf.predict(df2)\n",
    "df2_pred\n"
   ]
  },
  {
   "cell_type": "code",
   "execution_count": 84,
   "id": "3589b4e2-9cfc-4873-895d-f6da3e1bd45f",
   "metadata": {},
   "outputs": [
    {
     "data": {
      "text/plain": [
       "0.2"
      ]
     },
     "execution_count": 84,
     "metadata": {},
     "output_type": "execute_result"
    }
   ],
   "source": [
    "score = accuracy_score(dfn['Error Classification'], df2_pred)\n",
    "score"
   ]
  },
  {
   "cell_type": "code",
   "execution_count": null,
   "id": "6bfa55f0-a53a-451a-b50e-7a62b6924706",
   "metadata": {},
   "outputs": [],
   "source": []
  }
 ],
 "metadata": {
  "kernelspec": {
   "display_name": "mlpds",
   "language": "python",
   "name": "mlpds"
  },
  "language_info": {
   "codemirror_mode": {
    "name": "ipython",
    "version": 3
   },
   "file_extension": ".py",
   "mimetype": "text/x-python",
   "name": "python",
   "nbconvert_exporter": "python",
   "pygments_lexer": "ipython3",
   "version": "3.9.0"
  }
 },
 "nbformat": 4,
 "nbformat_minor": 5
}
