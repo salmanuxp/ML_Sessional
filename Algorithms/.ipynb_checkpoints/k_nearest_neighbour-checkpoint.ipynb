{
 "cells": [
  {
   "cell_type": "code",
   "execution_count": 130,
   "id": "f4f1eb1c-9bed-4603-8178-d40e8b6ee681",
   "metadata": {},
   "outputs": [],
   "source": [
    "import numpy as np\n",
    "import pandas as pd\n",
    "\n",
    "import matplotlib.pyplot as plt\n",
    "\n",
    "from sklearn.datasets import make_blobs\n",
    "from sklearn.neighbors import KNeighborsClassifier\n",
    "from sklearn.model_selection import train_test_split"
   ]
  },
  {
   "cell_type": "code",
   "execution_count": 131,
   "id": "15fd976d-1247-4b48-a5b4-02902058a897",
   "metadata": {},
   "outputs": [
    {
     "data": {
      "text/html": [
       "<div>\n",
       "<style scoped>\n",
       "    .dataframe tbody tr th:only-of-type {\n",
       "        vertical-align: middle;\n",
       "    }\n",
       "\n",
       "    .dataframe tbody tr th {\n",
       "        vertical-align: top;\n",
       "    }\n",
       "\n",
       "    .dataframe thead th {\n",
       "        text-align: right;\n",
       "    }\n",
       "</style>\n",
       "<table border=\"1\" class=\"dataframe\">\n",
       "  <thead>\n",
       "    <tr style=\"text-align: right;\">\n",
       "      <th></th>\n",
       "      <th>Unnamed: 0</th>\n",
       "      <th>Point A</th>\n",
       "      <th>Point B</th>\n",
       "      <th>Point C</th>\n",
       "      <th>Point D</th>\n",
       "      <th>Point E</th>\n",
       "      <th>Error Classification</th>\n",
       "    </tr>\n",
       "  </thead>\n",
       "  <tbody>\n",
       "    <tr>\n",
       "      <th>0</th>\n",
       "      <td>0</td>\n",
       "      <td>1.373475</td>\n",
       "      <td>0.958978</td>\n",
       "      <td>0.836790</td>\n",
       "      <td>1.502963</td>\n",
       "      <td>0.978804</td>\n",
       "      <td>A</td>\n",
       "    </tr>\n",
       "    <tr>\n",
       "      <th>1</th>\n",
       "      <td>1</td>\n",
       "      <td>1.940213</td>\n",
       "      <td>1.371291</td>\n",
       "      <td>1.743612</td>\n",
       "      <td>1.315589</td>\n",
       "      <td>2.017418</td>\n",
       "      <td>B</td>\n",
       "    </tr>\n",
       "    <tr>\n",
       "      <th>2</th>\n",
       "      <td>2</td>\n",
       "      <td>1.690368</td>\n",
       "      <td>2.025028</td>\n",
       "      <td>2.025214</td>\n",
       "      <td>1.518278</td>\n",
       "      <td>1.934396</td>\n",
       "      <td>A</td>\n",
       "    </tr>\n",
       "    <tr>\n",
       "      <th>3</th>\n",
       "      <td>3</td>\n",
       "      <td>1.542669</td>\n",
       "      <td>1.888478</td>\n",
       "      <td>1.641450</td>\n",
       "      <td>1.641526</td>\n",
       "      <td>2.550871</td>\n",
       "      <td>B</td>\n",
       "    </tr>\n",
       "    <tr>\n",
       "      <th>4</th>\n",
       "      <td>4</td>\n",
       "      <td>1.429971</td>\n",
       "      <td>1.580948</td>\n",
       "      <td>1.820888</td>\n",
       "      <td>1.274735</td>\n",
       "      <td>1.757213</td>\n",
       "      <td>A</td>\n",
       "    </tr>\n",
       "    <tr>\n",
       "      <th>...</th>\n",
       "      <td>...</td>\n",
       "      <td>...</td>\n",
       "      <td>...</td>\n",
       "      <td>...</td>\n",
       "      <td>...</td>\n",
       "      <td>...</td>\n",
       "      <td>...</td>\n",
       "    </tr>\n",
       "    <tr>\n",
       "      <th>306</th>\n",
       "      <td>306</td>\n",
       "      <td>0.234889</td>\n",
       "      <td>0.341797</td>\n",
       "      <td>0.312052</td>\n",
       "      <td>0.323540</td>\n",
       "      <td>0.359836</td>\n",
       "      <td>E</td>\n",
       "    </tr>\n",
       "    <tr>\n",
       "      <th>307</th>\n",
       "      <td>307</td>\n",
       "      <td>0.235683</td>\n",
       "      <td>0.339810</td>\n",
       "      <td>0.340483</td>\n",
       "      <td>0.328003</td>\n",
       "      <td>0.329723</td>\n",
       "      <td>E</td>\n",
       "    </tr>\n",
       "    <tr>\n",
       "      <th>308</th>\n",
       "      <td>308</td>\n",
       "      <td>0.231840</td>\n",
       "      <td>0.313921</td>\n",
       "      <td>0.329652</td>\n",
       "      <td>0.349243</td>\n",
       "      <td>0.341359</td>\n",
       "      <td>E</td>\n",
       "    </tr>\n",
       "    <tr>\n",
       "      <th>309</th>\n",
       "      <td>309</td>\n",
       "      <td>0.237851</td>\n",
       "      <td>0.306959</td>\n",
       "      <td>0.316966</td>\n",
       "      <td>0.357427</td>\n",
       "      <td>0.358833</td>\n",
       "      <td>E</td>\n",
       "    </tr>\n",
       "    <tr>\n",
       "      <th>310</th>\n",
       "      <td>310</td>\n",
       "      <td>0.234731</td>\n",
       "      <td>0.343230</td>\n",
       "      <td>0.315228</td>\n",
       "      <td>0.321040</td>\n",
       "      <td>0.357567</td>\n",
       "      <td>E</td>\n",
       "    </tr>\n",
       "  </tbody>\n",
       "</table>\n",
       "<p>311 rows × 7 columns</p>\n",
       "</div>"
      ],
      "text/plain": [
       "     Unnamed: 0   Point A   Point B   Point C   Point D   Point E  \\\n",
       "0             0  1.373475  0.958978  0.836790  1.502963  0.978804   \n",
       "1             1  1.940213  1.371291  1.743612  1.315589  2.017418   \n",
       "2             2  1.690368  2.025028  2.025214  1.518278  1.934396   \n",
       "3             3  1.542669  1.888478  1.641450  1.641526  2.550871   \n",
       "4             4  1.429971  1.580948  1.820888  1.274735  1.757213   \n",
       "..          ...       ...       ...       ...       ...       ...   \n",
       "306         306  0.234889  0.341797  0.312052  0.323540  0.359836   \n",
       "307         307  0.235683  0.339810  0.340483  0.328003  0.329723   \n",
       "308         308  0.231840  0.313921  0.329652  0.349243  0.341359   \n",
       "309         309  0.237851  0.306959  0.316966  0.357427  0.358833   \n",
       "310         310  0.234731  0.343230  0.315228  0.321040  0.357567   \n",
       "\n",
       "    Error Classification  \n",
       "0                      A  \n",
       "1                      B  \n",
       "2                      A  \n",
       "3                      B  \n",
       "4                      A  \n",
       "..                   ...  \n",
       "306                    E  \n",
       "307                    E  \n",
       "308                    E  \n",
       "309                    E  \n",
       "310                    E  \n",
       "\n",
       "[311 rows x 7 columns]"
      ]
     },
     "execution_count": 131,
     "metadata": {},
     "output_type": "execute_result"
    }
   ],
   "source": [
    "df = pd.read_csv(\"../dataset/dataset_with_error.csv\")\n",
    "\n",
    "df"
   ]
  },
  {
   "cell_type": "code",
   "execution_count": 132,
   "id": "9950a263-11e7-43b2-988e-a4888c77eecd",
   "metadata": {},
   "outputs": [
    {
     "data": {
      "text/html": [
       "<div>\n",
       "<style scoped>\n",
       "    .dataframe tbody tr th:only-of-type {\n",
       "        vertical-align: middle;\n",
       "    }\n",
       "\n",
       "    .dataframe tbody tr th {\n",
       "        vertical-align: top;\n",
       "    }\n",
       "\n",
       "    .dataframe thead th {\n",
       "        text-align: right;\n",
       "    }\n",
       "</style>\n",
       "<table border=\"1\" class=\"dataframe\">\n",
       "  <thead>\n",
       "    <tr style=\"text-align: right;\">\n",
       "      <th></th>\n",
       "      <th>Point A</th>\n",
       "      <th>Point B</th>\n",
       "      <th>Point C</th>\n",
       "      <th>Point D</th>\n",
       "      <th>Point E</th>\n",
       "      <th>Error Classification</th>\n",
       "    </tr>\n",
       "  </thead>\n",
       "  <tbody>\n",
       "    <tr>\n",
       "      <th>0</th>\n",
       "      <td>1.373475</td>\n",
       "      <td>0.958978</td>\n",
       "      <td>0.836790</td>\n",
       "      <td>1.502963</td>\n",
       "      <td>0.978804</td>\n",
       "      <td>A</td>\n",
       "    </tr>\n",
       "    <tr>\n",
       "      <th>1</th>\n",
       "      <td>1.940213</td>\n",
       "      <td>1.371291</td>\n",
       "      <td>1.743612</td>\n",
       "      <td>1.315589</td>\n",
       "      <td>2.017418</td>\n",
       "      <td>B</td>\n",
       "    </tr>\n",
       "    <tr>\n",
       "      <th>2</th>\n",
       "      <td>1.690368</td>\n",
       "      <td>2.025028</td>\n",
       "      <td>2.025214</td>\n",
       "      <td>1.518278</td>\n",
       "      <td>1.934396</td>\n",
       "      <td>A</td>\n",
       "    </tr>\n",
       "    <tr>\n",
       "      <th>3</th>\n",
       "      <td>1.542669</td>\n",
       "      <td>1.888478</td>\n",
       "      <td>1.641450</td>\n",
       "      <td>1.641526</td>\n",
       "      <td>2.550871</td>\n",
       "      <td>B</td>\n",
       "    </tr>\n",
       "    <tr>\n",
       "      <th>4</th>\n",
       "      <td>1.429971</td>\n",
       "      <td>1.580948</td>\n",
       "      <td>1.820888</td>\n",
       "      <td>1.274735</td>\n",
       "      <td>1.757213</td>\n",
       "      <td>A</td>\n",
       "    </tr>\n",
       "    <tr>\n",
       "      <th>...</th>\n",
       "      <td>...</td>\n",
       "      <td>...</td>\n",
       "      <td>...</td>\n",
       "      <td>...</td>\n",
       "      <td>...</td>\n",
       "      <td>...</td>\n",
       "    </tr>\n",
       "    <tr>\n",
       "      <th>306</th>\n",
       "      <td>0.234889</td>\n",
       "      <td>0.341797</td>\n",
       "      <td>0.312052</td>\n",
       "      <td>0.323540</td>\n",
       "      <td>0.359836</td>\n",
       "      <td>E</td>\n",
       "    </tr>\n",
       "    <tr>\n",
       "      <th>307</th>\n",
       "      <td>0.235683</td>\n",
       "      <td>0.339810</td>\n",
       "      <td>0.340483</td>\n",
       "      <td>0.328003</td>\n",
       "      <td>0.329723</td>\n",
       "      <td>E</td>\n",
       "    </tr>\n",
       "    <tr>\n",
       "      <th>308</th>\n",
       "      <td>0.231840</td>\n",
       "      <td>0.313921</td>\n",
       "      <td>0.329652</td>\n",
       "      <td>0.349243</td>\n",
       "      <td>0.341359</td>\n",
       "      <td>E</td>\n",
       "    </tr>\n",
       "    <tr>\n",
       "      <th>309</th>\n",
       "      <td>0.237851</td>\n",
       "      <td>0.306959</td>\n",
       "      <td>0.316966</td>\n",
       "      <td>0.357427</td>\n",
       "      <td>0.358833</td>\n",
       "      <td>E</td>\n",
       "    </tr>\n",
       "    <tr>\n",
       "      <th>310</th>\n",
       "      <td>0.234731</td>\n",
       "      <td>0.343230</td>\n",
       "      <td>0.315228</td>\n",
       "      <td>0.321040</td>\n",
       "      <td>0.357567</td>\n",
       "      <td>E</td>\n",
       "    </tr>\n",
       "  </tbody>\n",
       "</table>\n",
       "<p>311 rows × 6 columns</p>\n",
       "</div>"
      ],
      "text/plain": [
       "      Point A   Point B   Point C   Point D   Point E Error Classification\n",
       "0    1.373475  0.958978  0.836790  1.502963  0.978804                    A\n",
       "1    1.940213  1.371291  1.743612  1.315589  2.017418                    B\n",
       "2    1.690368  2.025028  2.025214  1.518278  1.934396                    A\n",
       "3    1.542669  1.888478  1.641450  1.641526  2.550871                    B\n",
       "4    1.429971  1.580948  1.820888  1.274735  1.757213                    A\n",
       "..        ...       ...       ...       ...       ...                  ...\n",
       "306  0.234889  0.341797  0.312052  0.323540  0.359836                    E\n",
       "307  0.235683  0.339810  0.340483  0.328003  0.329723                    E\n",
       "308  0.231840  0.313921  0.329652  0.349243  0.341359                    E\n",
       "309  0.237851  0.306959  0.316966  0.357427  0.358833                    E\n",
       "310  0.234731  0.343230  0.315228  0.321040  0.357567                    E\n",
       "\n",
       "[311 rows x 6 columns]"
      ]
     },
     "execution_count": 132,
     "metadata": {},
     "output_type": "execute_result"
    }
   ],
   "source": [
    "df = df.drop('Unnamed: 0', axis=1)\n",
    "df"
   ]
  },
  {
   "cell_type": "code",
   "execution_count": 133,
   "id": "47b4c1a2-8b56-4a11-a378-0c9f5c58c5c2",
   "metadata": {},
   "outputs": [],
   "source": [
    "# Separating the training set and test set\n",
    "\n",
    "from sklearn.model_selection import train_test_split\n",
    "\n",
    "X = df.drop('Error Classification',axis=1)\n",
    "\n",
    "y = df['Error Classification']\n",
    "X_train, X_test, y_train, y_test = train_test_split(X, y, test_size=0.30, random_state=101)\n"
   ]
  },
  {
   "cell_type": "code",
   "execution_count": 134,
   "id": "19f8fa4f-8752-4569-b1fc-85379bc13884",
   "metadata": {},
   "outputs": [],
   "source": [
    "knn7 = KNeighborsClassifier(n_neighbors = 7)\n"
   ]
  },
  {
   "cell_type": "code",
   "execution_count": 135,
   "id": "14733c5a-15a7-4093-abfb-1211819f0676",
   "metadata": {},
   "outputs": [],
   "source": [
    "knn7.fit(X_train, y_train)\n",
    "\n",
    "\n",
    "y_pred_7 = knn7.predict(X_test)\n"
   ]
  },
  {
   "cell_type": "code",
   "execution_count": 136,
   "id": "9e8a4c2c-16ce-4373-a543-b76e599668c0",
   "metadata": {},
   "outputs": [
    {
     "name": "stdout",
     "output_type": "stream",
     "text": [
      "Accuracy with k=7 94.68085106382979\n"
     ]
    }
   ],
   "source": [
    "from sklearn.metrics import accuracy_score\n",
    "print(\"Accuracy with k=7\", accuracy_score(y_test, y_pred_7)*100)"
   ]
  },
  {
   "cell_type": "code",
   "execution_count": 137,
   "id": "d1993215-64a1-4276-aa10-494d00490bcb",
   "metadata": {},
   "outputs": [
    {
     "data": {
      "image/png": "[encoded data removed]",
      "text/plain": [
       "<Figure size 1000x700 with 2 Axes>"
      ]
     },
     "metadata": {},
     "output_type": "display_data"
    }
   ],
   "source": [
    "from sklearn.metrics import confusion_matrix\n",
    "import seaborn as sn\n",
    "cm = confusion_matrix(y_test,y_pred_7)\n",
    "plt.figure(figsize=(10,7))\n",
    "sn.heatmap(cm, annot=True, fmt='g')\n",
    "plt.xlabel('classes - predicted')\n",
    "plt.ylabel('classes - truth')\n",
    "plt.show()"
   ]
  },
  {
   "cell_type": "code",
   "execution_count": 138,
   "id": "60ade42c-03ae-4cf7-9679-49fe664e28a7",
   "metadata": {},
   "outputs": [
    {
     "name": "stdout",
     "output_type": "stream",
     "text": [
      "Minimum error:- 0.0425531914893617 at K = 6\n"
     ]
    },
    {
     "data": {
      "image/png": "[encoded data removed]",
      "text/plain": [
       "<Figure size 1000x600 with 1 Axes>"
      ]
     },
     "metadata": {},
     "output_type": "display_data"
    }
   ],
   "source": [
    "error_rate = []\n",
    "for i in range(1,40):\n",
    " knn = KNeighborsClassifier(n_neighbors=i)\n",
    " knn.fit(X_train,y_train)\n",
    " pred_i = knn.predict(X_test)\n",
    " error_rate.append(np.mean(pred_i != y_test))\n",
    "\n",
    "plt.figure(figsize=(10,6))\n",
    "plt.plot(range(1,40),error_rate,color='blue', linestyle='dashed', \n",
    "         marker='o',markerfacecolor='red', markersize=10)\n",
    "plt.title('Error Rate vs. K Value')\n",
    "plt.xlabel('K')\n",
    "plt.ylabel('Error Rate')\n",
    "print(\"Minimum error:-\",min(error_rate),\"at K =\",error_rate.index(min(error_rate))+1)"
   ]
  },
  {
   "cell_type": "code",
   "execution_count": 139,
   "id": "d76c267b-c15d-438c-ba66-ebdbfd6482b5",
   "metadata": {},
   "outputs": [
    {
     "name": "stdout",
     "output_type": "stream",
     "text": [
      "Maximum accuracy:- 0.9574468085106383 at K = 6\n"
     ]
    },
    {
     "data": {
      "image/png": "[encoded data removed]",
      "text/plain": [
       "<Figure size 1000x600 with 1 Axes>"
      ]
     },
     "metadata": {},
     "output_type": "display_data"
    }
   ],
   "source": [
    "acc = []\n",
    "# Will take some time\n",
    "from sklearn import metrics\n",
    "for i in range(1,40):\n",
    "    neigh = KNeighborsClassifier(n_neighbors = i).fit(X_train,y_train)\n",
    "    yhat = neigh.predict(X_test)\n",
    "    acc.append(metrics.accuracy_score(y_test, yhat))\n",
    "    \n",
    "plt.figure(figsize=(10,6))\n",
    "plt.plot(range(1,40),acc,color = 'blue',linestyle='dashed', \n",
    "         marker='o',markerfacecolor='red', markersize=10)\n",
    "plt.title('accuracy vs. K Value')\n",
    "plt.xlabel('K')\n",
    "plt.ylabel('Accuracy')\n",
    "print(\"Maximum accuracy:-\",max(acc),\"at K =\",acc.index(max(acc))+1)"
   ]
  },
  {
   "cell_type": "code",
   "execution_count": 140,
   "id": "71ed4fe6-fbd9-4dd3-a21c-bbf76e31e2b2",
   "metadata": {},
   "outputs": [],
   "source": [
    "knn_best = KNeighborsClassifier(n_neighbors=6)\n",
    "knn_best.fit(X_train, y_train)\n",
    "y_pred_best = knn_best.predict(X_test)\n"
   ]
  },
  {
   "cell_type": "code",
   "execution_count": 141,
   "id": "a731149d-f20b-4d34-83c1-e8e9b628cb9e",
   "metadata": {},
   "outputs": [
    {
     "name": "stdout",
     "output_type": "stream",
     "text": [
      "Accuracy with best k =6 is  95.74468085106383\n"
     ]
    }
   ],
   "source": [
    "from sklearn.metrics import accuracy_score\n",
    "print(\"Accuracy with best k =6\" ,\"is \", accuracy_score(y_test, y_pred_best)*100)"
   ]
  },
  {
   "cell_type": "code",
   "execution_count": null,
   "id": "b223376b-fa4e-452c-a6ea-c813738108a6",
   "metadata": {},
   "outputs": [],
   "source": []
  },
  {
   "cell_type": "code",
   "execution_count": null,
   "id": "bc552c59-bb48-4133-8449-04dc1e90fd02",
   "metadata": {},
   "outputs": [],
   "source": []
  },
  {
   "cell_type": "code",
   "execution_count": null,
   "id": "ac4d9d4a-a97f-44f7-b131-6b2bd320c2e2",
   "metadata": {},
   "outputs": [],
   "source": []
  },
  {
   "cell_type": "markdown",
   "id": "e2004153-9e0f-423c-b43e-404b8e2565f0",
   "metadata": {
    "tags": []
   },
   "source": [
    "## Accuracy "
   ]
  },
  {
   "cell_type": "code",
   "execution_count": 145,
   "id": "16e0c0a9-35db-48c1-a3f0-536a49654575",
   "metadata": {},
   "outputs": [
    {
     "name": "stdout",
     "output_type": "stream",
     "text": [
      "Accuracy is:  95.74468085106383\n"
     ]
    }
   ],
   "source": [
    "print(\"Accuracy is: \",accuracy_score(y_test, y_pred_best)*100)"
   ]
  },
  {
   "cell_type": "markdown",
   "id": "9e882461-d6ee-4eaf-8edf-a9f6162ddb6b",
   "metadata": {},
   "source": [
    "## Precision"
   ]
  },
  {
   "cell_type": "code",
   "execution_count": 146,
   "id": "29104119-16f9-4596-b8ff-00cb7c7d2a09",
   "metadata": {},
   "outputs": [
    {
     "name": "stdout",
     "output_type": "stream",
     "text": [
      "Precision:  0.9588905775075988\n"
     ]
    }
   ],
   "source": [
    "from sklearn.metrics import precision_score\n",
    "precision = precision_score(y_test, y_pred_best, average=\"weighted\")\n",
    "print('Precision: ',precision)"
   ]
  },
  {
   "cell_type": "markdown",
   "id": "afb65a0f-d364-4a49-bd9d-d859763668ba",
   "metadata": {},
   "source": [
    "## Recall"
   ]
  },
  {
   "cell_type": "code",
   "execution_count": 147,
   "id": "0db5e69d-98f3-42c6-90f2-54c0965adee2",
   "metadata": {},
   "outputs": [
    {
     "name": "stdout",
     "output_type": "stream",
     "text": [
      "Recall:  0.9574468085106383\n"
     ]
    }
   ],
   "source": [
    "from sklearn.metrics import recall_score\n",
    "recall = recall_score(y_test, y_pred_best, average=\"weighted\")\n",
    "print('Recall: ',recall)"
   ]
  },
  {
   "cell_type": "markdown",
   "id": "f505f285-22a0-4851-8882-c5ab1af7fd4a",
   "metadata": {},
   "source": [
    "## F1 Score"
   ]
  },
  {
   "cell_type": "code",
   "execution_count": 149,
   "id": "1643d8c8-25e7-4ba5-a2c5-059d5131291c",
   "metadata": {},
   "outputs": [
    {
     "name": "stdout",
     "output_type": "stream",
     "text": [
      "F1 Score:  0.9581681491411829\n"
     ]
    }
   ],
   "source": [
    "from sklearn.metrics import f1_score\n",
    "f1_score = 2 * (precision * recall ) / (precision + recall)\n",
    "print('F1 Score: ',f1_score)\n"
   ]
  },
  {
   "cell_type": "code",
   "execution_count": null,
   "id": "8b8c7f44-9e46-4ce9-9579-107497113d30",
   "metadata": {},
   "outputs": [],
   "source": []
  },
  {
   "cell_type": "code",
   "execution_count": null,
   "id": "bc2b1194-3e7d-40bf-b424-f240c20999c9",
   "metadata": {},
   "outputs": [],
   "source": []
  },
  {
   "cell_type": "code",
   "execution_count": null,
   "id": "c45385f4-3006-48c1-8a6d-cb2b4fc57198",
   "metadata": {},
   "outputs": [],
   "source": []
  },
  {
   "cell_type": "code",
   "execution_count": null,
   "id": "dbe9289e-e97e-4982-ad3a-eef9c7b0f627",
   "metadata": {},
   "outputs": [],
   "source": []
  },
  {
   "cell_type": "code",
   "execution_count": null,
   "id": "339df085-f321-4671-90bd-0a508756bb95",
   "metadata": {},
   "outputs": [],
   "source": []
  },
  {
   "cell_type": "code",
   "execution_count": null,
   "id": "8f7317f7-1e14-4f68-a1d0-5f0f289a45d8",
   "metadata": {},
   "outputs": [],
   "source": []
  },
  {
   "cell_type": "code",
   "execution_count": null,
   "id": "7c6a8ca2-e0cd-46dc-a586-ca49d0dfab67",
   "metadata": {},
   "outputs": [],
   "source": []
  },
  {
   "cell_type": "code",
   "execution_count": null,
   "id": "63313478-427a-4015-b342-9915e959a19a",
   "metadata": {},
   "outputs": [],
   "source": []
  },
  {
   "cell_type": "code",
   "execution_count": null,
   "id": "01ef6072-5135-41df-b043-ae1aa9397eec",
   "metadata": {},
   "outputs": [],
   "source": []
  },
  {
   "cell_type": "code",
   "execution_count": null,
   "id": "542f0e8b-fbce-4ac4-8234-69071633d3d8",
   "metadata": {},
   "outputs": [],
   "source": []
  },
  {
   "cell_type": "code",
   "execution_count": 142,
   "id": "9cfc2782-19ea-4cfc-a568-6aefd68ac2c4",
   "metadata": {},
   "outputs": [
    {
     "data": {
      "text/plain": [
       "array(['B', 'E', 'A', 'A', 'E'], dtype=object)"
      ]
     },
     "execution_count": 142,
     "metadata": {},
     "output_type": "execute_result"
    }
   ],
   "source": [
    "dfn = pd.read_csv(\"../dataset/validation_ds.csv\")\n",
    "df2 = pd.read_csv(\"../dataset/validation_ds.csv\")\n",
    "df2 = df2.drop('Unnamed: 0', axis=1)\n",
    "df2 = df2.drop('Error Classification', axis=1)\n",
    "df2_pred = knn_best.predict(df2)\n",
    "df2_pred\n"
   ]
  },
  {
   "cell_type": "code",
   "execution_count": 143,
   "id": "cca2d4ee-f891-4747-945d-c23d7e815f0b",
   "metadata": {},
   "outputs": [
    {
     "data": {
      "text/plain": [
       "0.2"
      ]
     },
     "execution_count": 143,
     "metadata": {},
     "output_type": "execute_result"
    }
   ],
   "source": [
    "score = accuracy_score(dfn['Error Classification'], df2_pred)\n",
    "score"
   ]
  },
  {
   "cell_type": "code",
   "execution_count": null,
   "id": "f59e6d6d-1649-476f-becb-483987189179",
   "metadata": {},
   "outputs": [],
   "source": []
  },
  {
   "cell_type": "code",
   "execution_count": null,
   "id": "b080411c-de26-4617-a0ce-590ef948553f",
   "metadata": {},
   "outputs": [],
   "source": []
  },
  {
   "cell_type": "code",
   "execution_count": null,
   "id": "9929d7f1-2dbb-40f7-9c01-626fb5ba614c",
   "metadata": {},
   "outputs": [],
   "source": []
  }
 ],
 "metadata": {
  "kernelspec": {
   "display_name": "mlpds",
   "language": "python",
   "name": "mlpds"
  },
  "language_info": {
   "codemirror_mode": {
    "name": "ipython",
    "version": 3
   },
   "file_extension": ".py",
   "mimetype": "text/x-python",
   "name": "python",
   "nbconvert_exporter": "python",
   "pygments_lexer": "ipython3",
   "version": "3.9.0"
  }
 },
 "nbformat": 4,
 "nbformat_minor": 5
}
