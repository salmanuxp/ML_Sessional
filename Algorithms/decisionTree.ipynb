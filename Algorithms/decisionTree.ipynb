{
 "cells": [
  {
   "cell_type": "markdown",
   "id": "65c756f0-8345-4871-ae8b-d9b509e988f5",
   "metadata": {},
   "source": [
    "# Decision Tree\n",
    "One of the most common and effective machine learning algorithms that I have acquired knowledge of is called a Decision Tree. It is a method of non-parametric supervised learning that can be used for classification as well as regression work. The purpose of this project is to develop a model capable of predicting the value of a target variable through the discovery and application of straightforward decision rules inferred from the characteristics of the data. In a classification model, the target values are represented by discrete values due to the nature of the model, but in a regression model, the goal values are represented by continuous values due to the nature of the model. Decision Trees, in contrast to \"black box\" types of algorithms like Neural Networks, are relatively simpler to comprehend due to the fact that they expose their basic reasoning for generating decisions (you will find details in the following session).\n",
    "\n",
    "In spite of the fact that many data scientists consider it to be an outdated approach, and they might have some reservations about its precision as a result of an overfitting issue, the more recent tree-based models, such as Random forest (bagging method), gradient boosting (boosting method), and XGBoost (boosting method), are built on top of decision tree algorithm. Therefore, it is highly recommended that you familiarize yourself with the ideas and procedures that underpin decision trees!\n",
    "\n",
    "\n",
    "\n",
    "There are four common varieties of decision tree algorithms, which are as follows:\n",
    "\n",
    "1. ID3 - Iterative Dichotomiser\n",
    "2. CART (Classification And Regression Trees)\n",
    "3. Chi-Square\n",
    "4. Reduction in Variance"
   ]
  },
  {
   "cell_type": "markdown",
   "id": "9caa42f6-a9a0-40cf-bce1-b28da8c2d328",
   "metadata": {},
   "source": [
    "## ID3 (Iterative Dichotomiser)\n",
    "The ID3 decision tree algorithm determines the splitting points based on the Information Gain variable. We may use entropy to calculate the degree to which a sample is homogenous, which will then allow us to determine the amount of information that we have gained.\n"
   ]
  },
  {
   "cell_type": "code",
   "execution_count": null,
   "id": "f7de9a37-ff4b-44e4-88ed-842ec99e7096",
   "metadata": {},
   "outputs": [],
   "source": []
  },
  {
   "cell_type": "code",
   "execution_count": 153,
   "id": "49e93e68-8f89-49b4-bf49-dbb5490ffd67",
   "metadata": {},
   "outputs": [],
   "source": [
    "import numpy as np\n",
    "import pandas as pd\n"
   ]
  },
  {
   "cell_type": "code",
   "execution_count": 154,
   "id": "ff9156a4-5d1c-4385-aaac-d9a3ed0f6cb3",
   "metadata": {},
   "outputs": [
    {
     "data": {
      "text/html": [
       "<div>\n",
       "<style scoped>\n",
       "    .dataframe tbody tr th:only-of-type {\n",
       "        vertical-align: middle;\n",
       "    }\n",
       "\n",
       "    .dataframe tbody tr th {\n",
       "        vertical-align: top;\n",
       "    }\n",
       "\n",
       "    .dataframe thead th {\n",
       "        text-align: right;\n",
       "    }\n",
       "</style>\n",
       "<table border=\"1\" class=\"dataframe\">\n",
       "  <thead>\n",
       "    <tr style=\"text-align: right;\">\n",
       "      <th></th>\n",
       "      <th>Unnamed: 0</th>\n",
       "      <th>Point A</th>\n",
       "      <th>Point B</th>\n",
       "      <th>Point C</th>\n",
       "      <th>Point D</th>\n",
       "      <th>Point E</th>\n",
       "      <th>Error Classification</th>\n",
       "    </tr>\n",
       "  </thead>\n",
       "  <tbody>\n",
       "    <tr>\n",
       "      <th>0</th>\n",
       "      <td>0</td>\n",
       "      <td>1.373475</td>\n",
       "      <td>0.958978</td>\n",
       "      <td>0.836790</td>\n",
       "      <td>1.502963</td>\n",
       "      <td>0.978804</td>\n",
       "      <td>A</td>\n",
       "    </tr>\n",
       "    <tr>\n",
       "      <th>1</th>\n",
       "      <td>1</td>\n",
       "      <td>1.940213</td>\n",
       "      <td>1.371291</td>\n",
       "      <td>1.743612</td>\n",
       "      <td>1.315589</td>\n",
       "      <td>2.017418</td>\n",
       "      <td>B</td>\n",
       "    </tr>\n",
       "    <tr>\n",
       "      <th>2</th>\n",
       "      <td>2</td>\n",
       "      <td>1.690368</td>\n",
       "      <td>2.025028</td>\n",
       "      <td>2.025214</td>\n",
       "      <td>1.518278</td>\n",
       "      <td>1.934396</td>\n",
       "      <td>A</td>\n",
       "    </tr>\n",
       "    <tr>\n",
       "      <th>3</th>\n",
       "      <td>3</td>\n",
       "      <td>1.542669</td>\n",
       "      <td>1.888478</td>\n",
       "      <td>1.641450</td>\n",
       "      <td>1.641526</td>\n",
       "      <td>2.550871</td>\n",
       "      <td>B</td>\n",
       "    </tr>\n",
       "    <tr>\n",
       "      <th>4</th>\n",
       "      <td>4</td>\n",
       "      <td>1.429971</td>\n",
       "      <td>1.580948</td>\n",
       "      <td>1.820888</td>\n",
       "      <td>1.274735</td>\n",
       "      <td>1.757213</td>\n",
       "      <td>A</td>\n",
       "    </tr>\n",
       "    <tr>\n",
       "      <th>...</th>\n",
       "      <td>...</td>\n",
       "      <td>...</td>\n",
       "      <td>...</td>\n",
       "      <td>...</td>\n",
       "      <td>...</td>\n",
       "      <td>...</td>\n",
       "      <td>...</td>\n",
       "    </tr>\n",
       "    <tr>\n",
       "      <th>306</th>\n",
       "      <td>306</td>\n",
       "      <td>0.234889</td>\n",
       "      <td>0.341797</td>\n",
       "      <td>0.312052</td>\n",
       "      <td>0.323540</td>\n",
       "      <td>0.359836</td>\n",
       "      <td>E</td>\n",
       "    </tr>\n",
       "    <tr>\n",
       "      <th>307</th>\n",
       "      <td>307</td>\n",
       "      <td>0.235683</td>\n",
       "      <td>0.339810</td>\n",
       "      <td>0.340483</td>\n",
       "      <td>0.328003</td>\n",
       "      <td>0.329723</td>\n",
       "      <td>E</td>\n",
       "    </tr>\n",
       "    <tr>\n",
       "      <th>308</th>\n",
       "      <td>308</td>\n",
       "      <td>0.231840</td>\n",
       "      <td>0.313921</td>\n",
       "      <td>0.329652</td>\n",
       "      <td>0.349243</td>\n",
       "      <td>0.341359</td>\n",
       "      <td>E</td>\n",
       "    </tr>\n",
       "    <tr>\n",
       "      <th>309</th>\n",
       "      <td>309</td>\n",
       "      <td>0.237851</td>\n",
       "      <td>0.306959</td>\n",
       "      <td>0.316966</td>\n",
       "      <td>0.357427</td>\n",
       "      <td>0.358833</td>\n",
       "      <td>E</td>\n",
       "    </tr>\n",
       "    <tr>\n",
       "      <th>310</th>\n",
       "      <td>310</td>\n",
       "      <td>0.234731</td>\n",
       "      <td>0.343230</td>\n",
       "      <td>0.315228</td>\n",
       "      <td>0.321040</td>\n",
       "      <td>0.357567</td>\n",
       "      <td>E</td>\n",
       "    </tr>\n",
       "  </tbody>\n",
       "</table>\n",
       "<p>311 rows × 7 columns</p>\n",
       "</div>"
      ],
      "text/plain": [
       "     Unnamed: 0   Point A   Point B   Point C   Point D   Point E  \\\n",
       "0             0  1.373475  0.958978  0.836790  1.502963  0.978804   \n",
       "1             1  1.940213  1.371291  1.743612  1.315589  2.017418   \n",
       "2             2  1.690368  2.025028  2.025214  1.518278  1.934396   \n",
       "3             3  1.542669  1.888478  1.641450  1.641526  2.550871   \n",
       "4             4  1.429971  1.580948  1.820888  1.274735  1.757213   \n",
       "..          ...       ...       ...       ...       ...       ...   \n",
       "306         306  0.234889  0.341797  0.312052  0.323540  0.359836   \n",
       "307         307  0.235683  0.339810  0.340483  0.328003  0.329723   \n",
       "308         308  0.231840  0.313921  0.329652  0.349243  0.341359   \n",
       "309         309  0.237851  0.306959  0.316966  0.357427  0.358833   \n",
       "310         310  0.234731  0.343230  0.315228  0.321040  0.357567   \n",
       "\n",
       "    Error Classification  \n",
       "0                      A  \n",
       "1                      B  \n",
       "2                      A  \n",
       "3                      B  \n",
       "4                      A  \n",
       "..                   ...  \n",
       "306                    E  \n",
       "307                    E  \n",
       "308                    E  \n",
       "309                    E  \n",
       "310                    E  \n",
       "\n",
       "[311 rows x 7 columns]"
      ]
     },
     "execution_count": 154,
     "metadata": {},
     "output_type": "execute_result"
    }
   ],
   "source": [
    "df = pd.read_csv(\"../dataset/dataset_with_error.csv\")\n",
    "\n",
    "df"
   ]
  },
  {
   "cell_type": "code",
   "execution_count": 155,
   "id": "ade296d0-89a2-4d67-b50f-814a55bc1287",
   "metadata": {},
   "outputs": [
    {
     "data": {
      "text/html": [
       "<div>\n",
       "<style scoped>\n",
       "    .dataframe tbody tr th:only-of-type {\n",
       "        vertical-align: middle;\n",
       "    }\n",
       "\n",
       "    .dataframe tbody tr th {\n",
       "        vertical-align: top;\n",
       "    }\n",
       "\n",
       "    .dataframe thead th {\n",
       "        text-align: right;\n",
       "    }\n",
       "</style>\n",
       "<table border=\"1\" class=\"dataframe\">\n",
       "  <thead>\n",
       "    <tr style=\"text-align: right;\">\n",
       "      <th></th>\n",
       "      <th>Point A</th>\n",
       "      <th>Point B</th>\n",
       "      <th>Point C</th>\n",
       "      <th>Point D</th>\n",
       "      <th>Point E</th>\n",
       "      <th>Error Classification</th>\n",
       "    </tr>\n",
       "  </thead>\n",
       "  <tbody>\n",
       "    <tr>\n",
       "      <th>0</th>\n",
       "      <td>1.373475</td>\n",
       "      <td>0.958978</td>\n",
       "      <td>0.836790</td>\n",
       "      <td>1.502963</td>\n",
       "      <td>0.978804</td>\n",
       "      <td>A</td>\n",
       "    </tr>\n",
       "    <tr>\n",
       "      <th>1</th>\n",
       "      <td>1.940213</td>\n",
       "      <td>1.371291</td>\n",
       "      <td>1.743612</td>\n",
       "      <td>1.315589</td>\n",
       "      <td>2.017418</td>\n",
       "      <td>B</td>\n",
       "    </tr>\n",
       "    <tr>\n",
       "      <th>2</th>\n",
       "      <td>1.690368</td>\n",
       "      <td>2.025028</td>\n",
       "      <td>2.025214</td>\n",
       "      <td>1.518278</td>\n",
       "      <td>1.934396</td>\n",
       "      <td>A</td>\n",
       "    </tr>\n",
       "    <tr>\n",
       "      <th>3</th>\n",
       "      <td>1.542669</td>\n",
       "      <td>1.888478</td>\n",
       "      <td>1.641450</td>\n",
       "      <td>1.641526</td>\n",
       "      <td>2.550871</td>\n",
       "      <td>B</td>\n",
       "    </tr>\n",
       "    <tr>\n",
       "      <th>4</th>\n",
       "      <td>1.429971</td>\n",
       "      <td>1.580948</td>\n",
       "      <td>1.820888</td>\n",
       "      <td>1.274735</td>\n",
       "      <td>1.757213</td>\n",
       "      <td>A</td>\n",
       "    </tr>\n",
       "    <tr>\n",
       "      <th>...</th>\n",
       "      <td>...</td>\n",
       "      <td>...</td>\n",
       "      <td>...</td>\n",
       "      <td>...</td>\n",
       "      <td>...</td>\n",
       "      <td>...</td>\n",
       "    </tr>\n",
       "    <tr>\n",
       "      <th>306</th>\n",
       "      <td>0.234889</td>\n",
       "      <td>0.341797</td>\n",
       "      <td>0.312052</td>\n",
       "      <td>0.323540</td>\n",
       "      <td>0.359836</td>\n",
       "      <td>E</td>\n",
       "    </tr>\n",
       "    <tr>\n",
       "      <th>307</th>\n",
       "      <td>0.235683</td>\n",
       "      <td>0.339810</td>\n",
       "      <td>0.340483</td>\n",
       "      <td>0.328003</td>\n",
       "      <td>0.329723</td>\n",
       "      <td>E</td>\n",
       "    </tr>\n",
       "    <tr>\n",
       "      <th>308</th>\n",
       "      <td>0.231840</td>\n",
       "      <td>0.313921</td>\n",
       "      <td>0.329652</td>\n",
       "      <td>0.349243</td>\n",
       "      <td>0.341359</td>\n",
       "      <td>E</td>\n",
       "    </tr>\n",
       "    <tr>\n",
       "      <th>309</th>\n",
       "      <td>0.237851</td>\n",
       "      <td>0.306959</td>\n",
       "      <td>0.316966</td>\n",
       "      <td>0.357427</td>\n",
       "      <td>0.358833</td>\n",
       "      <td>E</td>\n",
       "    </tr>\n",
       "    <tr>\n",
       "      <th>310</th>\n",
       "      <td>0.234731</td>\n",
       "      <td>0.343230</td>\n",
       "      <td>0.315228</td>\n",
       "      <td>0.321040</td>\n",
       "      <td>0.357567</td>\n",
       "      <td>E</td>\n",
       "    </tr>\n",
       "  </tbody>\n",
       "</table>\n",
       "<p>311 rows × 6 columns</p>\n",
       "</div>"
      ],
      "text/plain": [
       "      Point A   Point B   Point C   Point D   Point E Error Classification\n",
       "0    1.373475  0.958978  0.836790  1.502963  0.978804                    A\n",
       "1    1.940213  1.371291  1.743612  1.315589  2.017418                    B\n",
       "2    1.690368  2.025028  2.025214  1.518278  1.934396                    A\n",
       "3    1.542669  1.888478  1.641450  1.641526  2.550871                    B\n",
       "4    1.429971  1.580948  1.820888  1.274735  1.757213                    A\n",
       "..        ...       ...       ...       ...       ...                  ...\n",
       "306  0.234889  0.341797  0.312052  0.323540  0.359836                    E\n",
       "307  0.235683  0.339810  0.340483  0.328003  0.329723                    E\n",
       "308  0.231840  0.313921  0.329652  0.349243  0.341359                    E\n",
       "309  0.237851  0.306959  0.316966  0.357427  0.358833                    E\n",
       "310  0.234731  0.343230  0.315228  0.321040  0.357567                    E\n",
       "\n",
       "[311 rows x 6 columns]"
      ]
     },
     "execution_count": 155,
     "metadata": {},
     "output_type": "execute_result"
    }
   ],
   "source": [
    "df = df.drop('Unnamed: 0', axis=1)\n",
    "df"
   ]
  },
  {
   "cell_type": "code",
   "execution_count": 156,
   "id": "1b75d20d-98df-4a54-afac-857bdc473c53",
   "metadata": {},
   "outputs": [
    {
     "data": {
      "text/plain": [
       "Point A                 float64\n",
       "Point B                 float64\n",
       "Point C                 float64\n",
       "Point D                 float64\n",
       "Point E                 float64\n",
       "Error Classification     object\n",
       "dtype: object"
      ]
     },
     "execution_count": 156,
     "metadata": {},
     "output_type": "execute_result"
    }
   ],
   "source": [
    "df.dtypes"
   ]
  },
  {
   "cell_type": "code",
   "execution_count": 157,
   "id": "7bada02c-2c28-4e39-a744-ea7ddf82b42d",
   "metadata": {},
   "outputs": [
    {
     "name": "stdout",
     "output_type": "stream",
     "text": [
      "<class 'pandas.core.frame.DataFrame'>\n",
      "RangeIndex: 311 entries, 0 to 310\n",
      "Data columns (total 6 columns):\n",
      " #   Column                Non-Null Count  Dtype  \n",
      "---  ------                --------------  -----  \n",
      " 0   Point A               311 non-null    float64\n",
      " 1   Point B               311 non-null    float64\n",
      " 2   Point C               311 non-null    float64\n",
      " 3   Point D               311 non-null    float64\n",
      " 4   Point E               311 non-null    float64\n",
      " 5   Error Classification  311 non-null    object \n",
      "dtypes: float64(5), object(1)\n",
      "memory usage: 14.7+ KB\n"
     ]
    }
   ],
   "source": [
    "df.info()"
   ]
  },
  {
   "cell_type": "code",
   "execution_count": 158,
   "id": "3c19f2cd-1ca1-40c8-973e-eb2a98177eda",
   "metadata": {},
   "outputs": [],
   "source": [
    "# Converting categorical variables into dummies/indicator variables\n",
    "\n",
    "# df_getdummy=pd.get_dummies(data=df, columns=['Point A', 'Point B', 'Point C', 'Point D','Point E'])\n",
    "# df_getdummy"
   ]
  },
  {
   "cell_type": "code",
   "execution_count": 159,
   "id": "d90a3591-a3ad-42db-9fd7-ca5ef794f6ca",
   "metadata": {},
   "outputs": [],
   "source": [
    "# Separating the training set and test set\n",
    "\n",
    "from sklearn.model_selection import train_test_split\n",
    "\n",
    "X = df.drop('Error Classification',axis=1)\n",
    "\n",
    "y = df['Error Classification']\n",
    "X_train, X_test, y_train, y_test = train_test_split(X, y, test_size=0.30, random_state=101)\n"
   ]
  },
  {
   "cell_type": "code",
   "execution_count": 160,
   "id": "28b425b0-7a11-44bb-ad2d-a226133ce95a",
   "metadata": {},
   "outputs": [],
   "source": [
    "\n",
    "# importing Decision Tree Classifier via sklean\n",
    "\n",
    "from sklearn.tree import DecisionTreeClassifier\n",
    "\n",
    "dtree = DecisionTreeClassifier(criterion='entropy',max_depth=2)\n",
    "dtree.fit(X_train,y_train)\n",
    "y_pred = dtree.predict(X_test)\n"
   ]
  },
  {
   "cell_type": "code",
   "execution_count": 161,
   "id": "7846274f-17a1-431d-9be2-974c5884b1cf",
   "metadata": {},
   "outputs": [
    {
     "data": {
      "text/plain": [
       "array(['E', 'C', 'E', 'C', 'D', 'C', 'C', 'D', 'E', 'C', 'D', 'C', 'E',\n",
       "       'D', 'C', 'D', 'D', 'C', 'E', 'D', 'C', 'D', 'E', 'E', 'C', 'C',\n",
       "       'E', 'C', 'C', 'E', 'E', 'C', 'E', 'D', 'D', 'C', 'E', 'C', 'D',\n",
       "       'D', 'D', 'E', 'D', 'C', 'E', 'E', 'C', 'C', 'C', 'D', 'D', 'D',\n",
       "       'C', 'D', 'E', 'C', 'D', 'D', 'D', 'C', 'C', 'C', 'D', 'C', 'E',\n",
       "       'D', 'D', 'E', 'C', 'E', 'C', 'D', 'D', 'D', 'C', 'D', 'E', 'E',\n",
       "       'D', 'E', 'E', 'E', 'D', 'E', 'C', 'D', 'E', 'C', 'C', 'E', 'C',\n",
       "       'E', 'C', 'D'], dtype=object)"
      ]
     },
     "execution_count": 161,
     "metadata": {},
     "output_type": "execute_result"
    }
   ],
   "source": [
    "y_pred"
   ]
  },
  {
   "cell_type": "code",
   "execution_count": 162,
   "id": "d6ca5e91-e5d8-4e00-979c-1bfef863c29b",
   "metadata": {},
   "outputs": [],
   "source": [
    "from sklearn.metrics import accuracy_score\n",
    "\n",
    "score = accuracy_score(y_test, y_pred)"
   ]
  },
  {
   "cell_type": "code",
   "execution_count": 163,
   "id": "55482c5a-40a1-4400-bda2-6b34347788db",
   "metadata": {},
   "outputs": [
    {
     "data": {
      "text/plain": [
       "0.776595744680851"
      ]
     },
     "execution_count": 163,
     "metadata": {},
     "output_type": "execute_result"
    }
   ],
   "source": [
    "score"
   ]
  },
  {
   "cell_type": "code",
   "execution_count": 164,
   "id": "31811626-90b3-4f7c-80dc-fc9be2489b3e",
   "metadata": {},
   "outputs": [
    {
     "data": {
      "image/png": "[encoded data removed]",
      "text/plain": [
       "<Figure size 1600x1200 with 1 Axes>"
      ]
     },
     "metadata": {},
     "output_type": "display_data"
    }
   ],
   "source": [
    "from sklearn.tree import plot_tree\n",
    "\n",
    "import matplotlib.pyplot as plt\n",
    "fig = plt.figure(figsize=(16,12))\n",
    "a = plot_tree(dtree, feature_names=df.columns, fontsize=12, filled=True, \n",
    "              class_names=['A', 'B','C','D','E'])"
   ]
  },
  {
   "cell_type": "markdown",
   "id": "9075c12c-c96b-466b-af40-594cc4cd288f",
   "metadata": {},
   "source": [
    "Overfitting is the primary drawback of using decision trees, and this is especially problematic when a tree has a particularly deep level. Fortunately, the more recent tree-based models, such as random forest and XGBoost, were built on top of the decision tree algorithm. These models, which generally perform better with a robust modeling technique and are much more dynamic than a single decision tree, were constructed more recently. Because of this, having a solid foundation in data science and machine learning begins with having a solid understanding of the principles and techniques that lie underlying Decision Trees."
   ]
  },
  {
   "cell_type": "code",
   "execution_count": 165,
   "id": "80805541-b176-4c46-b5ad-003279a4e02d",
   "metadata": {},
   "outputs": [
    {
     "data": {
      "image/png": "[encoded data removed]",
      "text/plain": [
       "<Figure size 1000x700 with 2 Axes>"
      ]
     },
     "metadata": {},
     "output_type": "display_data"
    }
   ],
   "source": [
    "from sklearn.metrics import confusion_matrix\n",
    "import seaborn as sn\n",
    "cm = confusion_matrix(y_test,y_pred)\n",
    "plt.figure(figsize=(10,7))\n",
    "sn.heatmap(cm, annot=True, fmt='g')\n",
    "plt.xlabel('classes - predicted')\n",
    "plt.ylabel('classes - truth')\n",
    "plt.show()"
   ]
  },
  {
   "cell_type": "markdown",
   "id": "6a6f8858-5834-4510-b77c-7a1bee5d9c00",
   "metadata": {},
   "source": [
    "# Hyperparameter Optimization\n",
    "\n",
    "In order to do this, we first need to decide which hyperparameters to test. Let’s see which ones we will be using:\n",
    "\n",
    "1. criterion – the function that’s used to determine the quality of a split\n",
    "2. max_depth – the maximum depth of the tree\n",
    "3. max_features – the max number of features to consider when making a split\n",
    "4. splitter – the strategy used to choose the split at each node\n"
   ]
  },
  {
   "cell_type": "code",
   "execution_count": 166,
   "id": "a3d5608d-5762-43c1-98ea-a4fd09769637",
   "metadata": {},
   "outputs": [
    {
     "name": "stdout",
     "output_type": "stream",
     "text": [
      "Fitting 5 folds for each of 168 candidates, totalling 840 fits\n",
      "{'criterion': 'entropy', 'max_depth': 10, 'max_features': 0.6, 'splitter': 'best'}\n"
     ]
    }
   ],
   "source": [
    "# Hyperparameter Tuning\n",
    "\n",
    "from sklearn.model_selection import GridSearchCV\n",
    "\n",
    "params = {\n",
    "    'criterion':  ['gini', 'entropy'],\n",
    "    'max_depth':  [None, 2, 4, 6, 8, 10],\n",
    "    'max_features': [None, 'sqrt', 'log2', 0.2, 0.4, 0.6, 0.8],\n",
    "    'splitter': ['best', 'random']\n",
    "}\n",
    "\n",
    "clf = GridSearchCV(\n",
    "    estimator=DecisionTreeClassifier(),\n",
    "    param_grid=params,\n",
    "    cv=5,\n",
    "    n_jobs=5,\n",
    "    verbose=1,\n",
    ")\n",
    "\n",
    "clf.fit(X_train, y_train)\n",
    "print(clf.best_params_)"
   ]
  },
  {
   "cell_type": "code",
   "execution_count": 167,
   "id": "7577e4f3-5726-4af5-92d5-7cc2164581e2",
   "metadata": {},
   "outputs": [
    {
     "name": "stdout",
     "output_type": "stream",
     "text": [
      "0.8297872340425532\n"
     ]
    }
   ],
   "source": [
    "clf = DecisionTreeClassifier(max_depth=4, criterion='entropy', max_features=0.6, splitter='best')\n",
    "clf.fit(X_train, y_train)\n",
    "y_pred = clf.predict(X_test)\n",
    "\n",
    "print(accuracy_score(y_test, y_pred))"
   ]
  },
  {
   "cell_type": "code",
   "execution_count": 168,
   "id": "5fbf3597-8f23-4f25-a315-dd39260a0a14",
   "metadata": {},
   "outputs": [
    {
     "data": {
      "image/png": "[encoded data removed]",
      "text/plain": [
       "<Figure size 1000x700 with 2 Axes>"
      ]
     },
     "metadata": {},
     "output_type": "display_data"
    }
   ],
   "source": [
    "from sklearn.metrics import confusion_matrix\n",
    "import seaborn as sn\n",
    "cm = confusion_matrix(y_test,y_pred)\n",
    "plt.figure(figsize=(10,7))\n",
    "sn.heatmap(cm, annot=True, fmt='g')\n",
    "plt.xlabel('classes - predicted')\n",
    "plt.ylabel('classes - truth')\n",
    "plt.show()"
   ]
  },
  {
   "cell_type": "markdown",
   "id": "1b25e75c-c4f5-4052-803a-dc3877e16cfa",
   "metadata": {
    "tags": []
   },
   "source": [
    "## Accuracy "
   ]
  },
  {
   "cell_type": "code",
   "execution_count": 169,
   "id": "81d155c4-288f-46b3-bc49-e969ed084213",
   "metadata": {},
   "outputs": [
    {
     "name": "stdout",
     "output_type": "stream",
     "text": [
      "Accuracy is:  90.42553191489363\n"
     ]
    }
   ],
   "source": [
    "clf = DecisionTreeClassifier(max_depth=4, criterion='entropy', max_features=0.6, splitter='best')\n",
    "clf.fit(X_train, y_train)\n",
    "y_pred = clf.predict(X_test)\n",
    "\n",
    "print(\"Accuracy is: \",accuracy_score(y_test, y_pred)*100)"
   ]
  },
  {
   "cell_type": "markdown",
   "id": "ea86838b-8358-4881-ae62-7bde875af45e",
   "metadata": {},
   "source": [
    "## Precision"
   ]
  },
  {
   "cell_type": "code",
   "execution_count": 170,
   "id": "ab27aaaf-bda2-48c3-ac3e-fbf978ba2904",
   "metadata": {},
   "outputs": [
    {
     "name": "stdout",
     "output_type": "stream",
     "text": [
      "Precision:  0.9274754500818331\n"
     ]
    }
   ],
   "source": [
    "from sklearn.metrics import precision_score\n",
    "precision = precision_score(y_test, y_pred, average=\"weighted\")\n",
    "print('Precision: ',precision)"
   ]
  },
  {
   "cell_type": "markdown",
   "id": "ad914fb4-9d78-47ce-ad75-f6fb27c2b604",
   "metadata": {},
   "source": [
    "## Recall"
   ]
  },
  {
   "cell_type": "code",
   "execution_count": 171,
   "id": "8f6d3139-fc2d-436f-a955-7fbfac3fb141",
   "metadata": {},
   "outputs": [
    {
     "name": "stdout",
     "output_type": "stream",
     "text": [
      "Recall:  0.9042553191489362\n"
     ]
    }
   ],
   "source": [
    "from sklearn.metrics import recall_score\n",
    "recall = recall_score(y_test, y_pred, average=\"weighted\")\n",
    "print('Recall: ',recall)"
   ]
  },
  {
   "cell_type": "markdown",
   "id": "b23f0c5f-e787-4211-a8b9-38cad3cb028b",
   "metadata": {},
   "source": [
    "## F1 Score"
   ]
  },
  {
   "cell_type": "code",
   "execution_count": 175,
   "id": "6e6172f6-e9f7-4fa7-84fe-08acd19b3269",
   "metadata": {},
   "outputs": [
    {
     "name": "stdout",
     "output_type": "stream",
     "text": [
      "F1 Score:  0.9157182083792266\n"
     ]
    }
   ],
   "source": [
    "from sklearn.metrics import f1_score\n",
    "f1_score = 2 * (precision * recall ) / (precision + recall)\n",
    "print('F1 Score: ',f1_score)\n"
   ]
  },
  {
   "cell_type": "code",
   "execution_count": null,
   "id": "ee45ec84-4b8e-4b4e-9f1b-25cd4c583e44",
   "metadata": {},
   "outputs": [],
   "source": []
  },
  {
   "cell_type": "code",
   "execution_count": null,
   "id": "af282447-3d54-4bc8-a7c1-92578c8c7a2b",
   "metadata": {},
   "outputs": [],
   "source": [
    "\n",
    "\n",
    " \n",
    "\n"
   ]
  },
  {
   "cell_type": "code",
   "execution_count": null,
   "id": "db3986db-9c46-4d7d-8bc0-2a0708d3b587",
   "metadata": {},
   "outputs": [],
   "source": []
  },
  {
   "cell_type": "code",
   "execution_count": null,
   "id": "a7d9762e-9cdd-4cb8-aa02-4b2b35ca0804",
   "metadata": {},
   "outputs": [],
   "source": []
  },
  {
   "cell_type": "code",
   "execution_count": null,
   "id": "7846a027-5721-4678-9a47-290dd8f8dfdb",
   "metadata": {},
   "outputs": [],
   "source": []
  },
  {
   "cell_type": "code",
   "execution_count": null,
   "id": "4f0f1af3-a6f7-4742-92db-a8bffd09ed4f",
   "metadata": {},
   "outputs": [],
   "source": []
  },
  {
   "cell_type": "markdown",
   "id": "5d2030a3-f5de-4919-bfa3-4538b8834fe0",
   "metadata": {},
   "source": [
    "## Predictions from validations set\n",
    "\n"
   ]
  },
  {
   "cell_type": "code",
   "execution_count": 173,
   "id": "3515e0b8-4f68-47b0-97b2-d36b1330d66a",
   "metadata": {},
   "outputs": [
    {
     "data": {
      "text/plain": [
       "array(['C', 'C', 'C', 'C', 'E'], dtype=object)"
      ]
     },
     "execution_count": 173,
     "metadata": {},
     "output_type": "execute_result"
    }
   ],
   "source": [
    "dfn = pd.read_csv(\"../dataset/validation_ds.csv\")\n",
    "df2 = pd.read_csv(\"../dataset/validation_ds.csv\")\n",
    "df2 = df2.drop('Unnamed: 0', axis=1)\n",
    "df2 = df2.drop('Error Classification', axis=1)\n",
    "df2_pred = dtree.predict(df2)\n",
    "df2_pred\n"
   ]
  },
  {
   "cell_type": "code",
   "execution_count": 174,
   "id": "356d15a5-f854-4426-a919-e783748bef49",
   "metadata": {},
   "outputs": [
    {
     "data": {
      "text/plain": [
       "0.4"
      ]
     },
     "execution_count": 174,
     "metadata": {},
     "output_type": "execute_result"
    }
   ],
   "source": [
    "score = accuracy_score(dfn['Error Classification'], df2_pred)\n",
    "score"
   ]
  },
  {
   "cell_type": "code",
   "execution_count": null,
   "id": "bbdea242-6864-4c8b-afc0-bf3042afcbe5",
   "metadata": {},
   "outputs": [],
   "source": []
  }
 ],
 "metadata": {
  "kernelspec": {
   "display_name": "mlpds",
   "language": "python",
   "name": "mlpds"
  },
  "language_info": {
   "codemirror_mode": {
    "name": "ipython",
    "version": 3
   },
   "file_extension": ".py",
   "mimetype": "text/x-python",
   "name": "python",
   "nbconvert_exporter": "python",
   "pygments_lexer": "ipython3",
   "version": "3.9.0"
  }
 },
 "nbformat": 4,
 "nbformat_minor": 5
}
